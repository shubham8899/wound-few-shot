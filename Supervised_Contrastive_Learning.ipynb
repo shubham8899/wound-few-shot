{
  "cells": [
    {
      "cell_type": "code",
      "execution_count": null,
      "metadata": {
        "colab": {
          "base_uri": "https://localhost:8080/"
        },
        "id": "igf8vICdwGZG",
        "outputId": "60b3551c-9e36-481e-b1d7-13c095a03400"
      },
      "outputs": [
        {
          "output_type": "stream",
          "name": "stdout",
          "text": [
            "\u001b[K     |████████████████████████████████| 431 kB 30.5 MB/s \n",
            "\u001b[K     |████████████████████████████████| 110 kB 64.0 MB/s \n",
            "\u001b[?25h"
          ]
        }
      ],
      "source": [
        "!pip install -q timm pytorch-metric-learning"
      ]
    },
    {
      "cell_type": "code",
      "execution_count": null,
      "metadata": {
        "colab": {
          "base_uri": "https://localhost:8080/"
        },
        "id": "FIhhRcQWjJxw",
        "outputId": "d8f06cda-e18d-4b01-816f-8ebd00f1a6d9"
      },
      "outputs": [
        {
          "output_type": "stream",
          "name": "stdout",
          "text": [
            "Mounted at /content/drive\n"
          ]
        }
      ],
      "source": [
        "from google.colab import drive\n",
        "drive.mount('/content/drive')"
      ]
    },
    {
      "cell_type": "code",
      "execution_count": null,
      "metadata": {
        "id": "oCXPOFWdxe96"
      },
      "outputs": [],
      "source": [
        "import pandas as pd\n",
        "import os\n",
        "import numpy as np\n",
        "import time\n",
        "import torch\n",
        "import copy\n",
        "from PIL import Image\n",
        "from tqdm.notebook import trange, tqdm\n",
        "import torch.nn as nn\n",
        "import torch.nn.functional as F\n",
        "from torchsummary import summary\n",
        "from torchvision import transforms\n",
        "from torch.utils.data import Dataset, DataLoader\n",
        "from torchvision.io import read_image, ImageReadMode\n",
        "from pytorch_metric_learning import losses\n",
        "import timm\n",
        "from torch.cuda import amp\n",
        "from collections import defaultdict\n",
        "device = torch.device(\"cuda:0\" if torch.cuda.is_available() else \"cpu\")"
      ]
    },
    {
      "cell_type": "code",
      "execution_count": null,
      "metadata": {
        "id": "GKJKd07K3AdR"
      },
      "outputs": [],
      "source": [
        "class Wound_Dataset(Dataset):\n",
        "\n",
        "    def __init__(self, root_dir, transform=None):\n",
        "        \"\"\"\n",
        "        Wound dataset. Returns tensorized images with\n",
        "        corresponding class 1: healer, 0: nonhealer\n",
        "        Args:\n",
        "            root_dir: path to healer/nonhealer image dataset.\n",
        "        \"\"\"\n",
        "        self.root_dir = root_dir\n",
        "        self.transform = transform \n",
        "        self.samples, self.targets = self.make_dataset(self.root_dir)\n",
        "\n",
        "    def make_dataset(self, root_dir):\n",
        " \n",
        "        instances = []\n",
        "        targets = []\n",
        "\n",
        "\n",
        "        for i in os.listdir(root_dir):\n",
        "            instances.append(root_dir + \"/\" + i)\n",
        "            # print(df[df['Filename'] == i]['Label_bin'])\n",
        "            # print(i)\n",
        "            label = i.split('_')[2].split('.')[0]\n",
        "            if label == 'NonHealer':\n",
        "                targets.append(0)\n",
        "            elif label == 'Healer':\n",
        "                targets.append(1)\n",
        "\n",
        "        print(instances)\n",
        "        print(targets)\n",
        "\n",
        "        return instances, targets\n",
        "\n",
        "    def pil_loader(self, path):\n",
        "        # open path as file to avoid ResourceWarning (https://github.com/python-pillow/Pillow/issues/835)\n",
        "        with open(path, 'rb') as f:\n",
        "            img = Image.open(f)\n",
        "            img = img.convert('RGB')\n",
        "            img = img.resize((224,224), Image.BICUBIC)\n",
        "            return img\n",
        "\n",
        "    def __getitem__(self, index: int):\n",
        "            \"\"\"\n",
        "            Returns tensor data and label.\n",
        "            Args:\n",
        "                index (int): Index\n",
        "            Returns:\n",
        "                tuple: (sample, target) where sample is a tensor of input data\n",
        "                        target is class of sample.\n",
        "            \"\"\"\n",
        "            # Get images and targets, drop alpha\n",
        "            img = self.pil_loader(self.samples[index])\n",
        "            target = self.targets[index]\n",
        "\n",
        "            # print(img.size)\n",
        "            # print(self.samples[index])\n",
        "\n",
        "            if self.transform:\n",
        "                img = self.transform(img)\n",
        "\n",
        "            # Concat and return sample, target\n",
        "            return img , target\n",
        "\n",
        "    def __len__(self):\n",
        "        return len(self.samples)"
      ]
    },
    {
      "cell_type": "code",
      "execution_count": null,
      "metadata": {
        "id": "DbSbhmZE1Y1C"
      },
      "outputs": [],
      "source": [
        "def wound_dataloader(dataset, batch_size: int, num_workers = 0, shuffle = True, pin_memory = False):\n",
        "    return DataLoader(\n",
        "        dataset,\n",
        "        batch_size=batch_size,\n",
        "        num_workers=num_workers,\n",
        "        shuffle = shuffle,\n",
        "        pin_memory = pin_memory)"
      ]
    },
    {
      "cell_type": "code",
      "execution_count": null,
      "metadata": {
        "id": "zOAv7gIOxhek"
      },
      "outputs": [],
      "source": [
        "# class Encoder(nn.Module):\n",
        "#     \"\"\"\n",
        "#     Encoder model Pytorch. \n",
        "#     \"\"\"   \n",
        "#     def __init__(self):\n",
        "#         # Initialize self._modules as OrderedDict\n",
        "#         super(Encoder, self).__init__() \n",
        "#         # Initialize densenet121\n",
        "#         self.embed_model = torch.hub.load('pytorch/vision:v0.10.0', 'densenet121', pretrained=False)\n",
        "#         # Remove Classifying layer\n",
        "#         self.embed_model = nn.Sequential(*list(self.embed_model.children())[:-1])\n",
        "#         # 7x7 average pool layer\n",
        "#         self.avg = nn.AvgPool2d(kernel_size=7, stride=1)\n",
        "#         # Left image connected layers\n",
        "#         self.fc_16 = nn.Linear(1024, 16)\n",
        "\n",
        "\n",
        "#     def forward(self, x):\n",
        "#         # Embed Left\n",
        "#         u1 = self.embed_model(x)\n",
        "#         u1 = self.avg(u1)\n",
        "#         u1 = u1.view(-1,1024)\n",
        "#         u1 = self.fc_16(u1)\n",
        "#         #u1 = torch.relu(u1)\n",
        "#         return u1\n",
        "\n",
        "#     def load_embed_wts(self, device):\n",
        "#         \"\"\"\n",
        "#         load pretrained model weights, use only when transfer learning from ImageNET data\n",
        "#         \"\"\"\n",
        "#         # Initialize densenet121\n",
        "#         self.embed_model = torch.hub.load('pytorch/vision:v0.10.0', 'densenet121', pretrained=True).to(device)\n",
        "\n",
        "#         # Remove Classifying layer\n",
        "#         self.embed_model = nn.Sequential(*list(self.embed_model.children())[:-1])\n",
        "\n",
        "\n",
        "# # class SupConClassifier(nn.Module):\n",
        "# #     def __init__(self):\n",
        "# #         super(SupConClassifier, self).__init__()\n",
        "# #         self.encoder = Encoder()\n",
        "# #         for param in self.encoder.parameters():\n",
        "# #             param.requires_grad = False\n",
        "# #         self.projection1 = nn.Linear(16, 16, bias=True)\n",
        "# #         self.bn = nn.BatchNorm1d(16)\n",
        "# #         # self.idt = nn.Identity()\n",
        "# #         self.relu = nn.ReLU()\n",
        "# #         self.projection2 = nn.Linear(16, 4, bias=True)\n",
        "# #         self.bn1 = nn.BatchNorm1d(4)\n",
        "# #         self.classifier = nn.Linear(4, 2, bias=True)\n",
        "\n",
        "# #     def forward(self, x):\n",
        "# #         u = self.encoder(x)\n",
        "# #         u = self.projection1(u)\n",
        "# #         u = self.bn(u)\n",
        "# #         u = self.relu(u)\n",
        "# #         u = self.projection2(u)\n",
        "# #         u = self.relu(u)\n",
        "# #         u = self.bn1(u)\n",
        "# #         u = self.classifier(u)\n",
        "# #         return u\n",
        "\n",
        "# class Projection(nn.Module):\n",
        "#     \"\"\"\n",
        "#     Creates projection head\n",
        "#     Args:\n",
        "#         n_in (int): Number of input features\n",
        "#         n_hidden (int): Number of hidden features\n",
        "#         n_out (int): Number of output features\n",
        "#         use_bn (bool): Whether to use batch norm\n",
        "#     \"\"\"\n",
        "#     def __init__(self, n_in: int, n_hidden: int, n_out: int,\n",
        "#                 use_bn: bool = True):\n",
        "#         super().__init__()\n",
        "        \n",
        "#         # No point in using bias if we've batch norm\n",
        "#         self.lin1 = nn.Linear(n_in, n_hidden, bias=not use_bn)\n",
        "#         self.bn = nn.BatchNorm1d(n_hidden) if use_bn else nn.Identity()\n",
        "#         self.relu = nn.ReLU()\n",
        "#         # No bias for the final linear layer\n",
        "#         self.lin2 = nn.Linear(n_hidden, n_out, bias=False)\n",
        "    \n",
        "#     def forward(self, x):\n",
        "#         x = self.lin1(x)\n",
        "#         x = self.bn(x)\n",
        "#         x = self.relu(x)\n",
        "#         x = self.lin2(x)\n",
        "#         return x\n",
        "\n",
        "# class SupConClassifier(nn.Module):\n",
        "#     def __init__(self, projection_n_in: int = 16,\n",
        "#                projection_n_hidden: int = 16, projection_n_out: int = 16,\n",
        "#                projection_use_bn: bool = True):\n",
        "#         super().__init__()\n",
        "        \n",
        "#         self.encoder = Encoder()\n",
        "#         for param in self.encoder.parameters():\n",
        "#             param.requires_grad = False\n",
        "#         self.projection = Projection(projection_n_in, projection_n_hidden,\n",
        "#                                     projection_n_out, projection_use_bn)\n",
        "  \n",
        "#     def forward(self, x):\n",
        "#         x = self.encoder(x)\n",
        "#         x = self.projection(x)\n",
        "#         return x\n",
        "\n",
        "# class Classifier(nn.Module):\n",
        "#     def __init__(self):\n",
        "#         super().__init__()\n",
        "#         self.selfsup = SupConClassifier()\n",
        "#         self.middle = nn.Linear(16,4)\n",
        "#         # self.relu = nn.ReLU()\n",
        "#         self.classifier = nn.Linear(4,2)\n",
        "\n",
        "#     def forward(self, x):\n",
        "#         x = self. selfsup(x)\n",
        "#         x = self. middle(x)\n",
        "#         # x = self. middle(x)\n",
        "#         x = self.classifier(x)\n",
        "\n",
        "#         return x\n"
      ]
    },
    {
      "cell_type": "code",
      "source": [
        "class Encoder(nn.Module):\n",
        "    \"\"\"\n",
        "    Encoder model Pytorch. \n",
        "    \"\"\"   \n",
        "    def __init__(self):\n",
        "        # Initialize self._modules as OrderedDict\n",
        "        super(Encoder, self).__init__() \n",
        "        # Initialize densenet121\n",
        "        self.embed_model = torch.hub.load('pytorch/vision:v0.10.0', 'densenet121', pretrained=False)\n",
        "        # Remove Classifying layer\n",
        "        self.embed_model = nn.Sequential(*list(self.embed_model.children())[:-1])\n",
        "        # 7x7 average pool layer\n",
        "        self.avg = nn.AvgPool2d(kernel_size=7, stride=1)\n",
        "        # Left image connected layers\n",
        "        self.fc_16 = nn.Linear(1024, 16)\n",
        "\n",
        "\n",
        "    def forward(self, x):\n",
        "        # Embed Left\n",
        "        u1 = self.embed_model(x)\n",
        "        u1 = self.avg(u1)\n",
        "        u1 = u1.view(-1,1024)\n",
        "        u1 = self.fc_16(u1)\n",
        "        #u1 = torch.relu(u1)\n",
        "        return u1\n",
        "\n",
        "    def load_embed_wts(self, device):\n",
        "        \"\"\"\n",
        "        load pretrained model weights, use only when transfer learning from ImageNET data\n",
        "        \"\"\"\n",
        "        # Initialize densenet121\n",
        "        self.embed_model = torch.hub.load('pytorch/vision:v0.10.0', 'densenet121', pretrained=True).to(device)\n",
        "\n",
        "        # Remove Classifying layer\n",
        "        self.embed_model = nn.Sequential(*list(self.embed_model.children())[:-1])\n",
        "\n",
        "class Projection(nn.Module):\n",
        "    \"\"\"\n",
        "    Creates projection head\n",
        "    Args:\n",
        "        n_in (int): Number of input features\n",
        "        n_hidden (int): Number of hidden features\n",
        "        n_out (int): Number of output features\n",
        "        use_bn (bool): Whether to use batch norm\n",
        "    \"\"\"\n",
        "    def __init__(self, n_in: int, n_hidden: int, n_out: int,\n",
        "                use_bn: bool = True):\n",
        "        super().__init__()\n",
        "        \n",
        "        # No point in using bias if we've batch norm\n",
        "        self.lin1 = nn.Linear(1024, 1024, bias = True)\n",
        "        self.bn = nn.BatchNorm1d(1024)\n",
        "        self.relu = nn.ReLU()\n",
        "        # No bias for the final linear layer\n",
        "        self.lin2 = nn.Linear(1024, 128, bias=False)\n",
        "    \n",
        "    def forward(self, x):\n",
        "        x = self.lin1(x)\n",
        "        x = self.bn(x)\n",
        "        x = self.relu(x)\n",
        "        x = self.lin2(x)\n",
        "        return x\n",
        "\n",
        "class SupConClassifier(nn.Module):\n",
        "    def __init__(self, projection_n_in: int = 16,\n",
        "               projection_n_hidden: int = 16, projection_n_out: int = 16,\n",
        "               projection_use_bn: bool = True):\n",
        "        super().__init__()\n",
        "        \n",
        "        # self.encoder = Encoder()\n",
        "        self.pre_encoder = Encoder()\n",
        "        self.encoder = nn.Sequential(*list(self.pre_encoder.children())[:-1])\n",
        "\n",
        "        for param in self.encoder.parameters():\n",
        "            param.requires_grad = False\n",
        "        self.projection = Projection(projection_n_in, projection_n_hidden,\n",
        "                                    projection_n_out, projection_use_bn)\n",
        "  \n",
        "    def forward(self, x):\n",
        "        x = self.encoder(x)\n",
        "        x = self.projection(x)\n",
        "        return x\n",
        "\n",
        "class Classifier(nn.Module):\n",
        "    def __init__(self):\n",
        "        super().__init__()\n",
        "        self.selfsup = SupConClassifier()\n",
        "        self.middle = nn.Linear(128,32)\n",
        "        # self.relu = nn.ReLU()\n",
        "        # self.classifier = nn.Linear(4,2)\n",
        "\n",
        "    def forward(self, x):\n",
        "        x = self. selfsup(x)\n",
        "        x = self. middle(x)\n",
        "        # x = self. middle(x)\n",
        "        # x = self.classifier(x)\n",
        "\n",
        "        return x"
      ],
      "metadata": {
        "id": "2DYRK68zpb6U"
      },
      "execution_count": null,
      "outputs": []
    },
    {
      "cell_type": "code",
      "execution_count": null,
      "metadata": {
        "id": "-HjA7eqCxu1M"
      },
      "outputs": [],
      "source": [
        "def train_model(model, dataloaders, criterion, optimizer, num_epochs=25):\n",
        "    since = time.time()\n",
        "\n",
        "    val_acc_history = []\n",
        "\n",
        "    best_model_wts = copy.deepcopy(model.state_dict())\n",
        "    best_acc = 0.0\n",
        "\n",
        "    for epoch in range(num_epochs):\n",
        "        print('Epoch {}/{}'.format(epoch, num_epochs - 1))\n",
        "        print('-' * 10)\n",
        "\n",
        "        # Each epoch has a training and validation phase\n",
        "        for phase in ['train', 'val']:\n",
        "            if phase == 'train':\n",
        "                model.train()  # Set model to training mode\n",
        "            else:\n",
        "                model.eval()   # Set model to evaluate mode\n",
        "            # model.eval()\n",
        "            running_loss = 0.0\n",
        "            running_corrects = 0\n",
        "\n",
        "            # Iterate over data.\n",
        "            for inputs, labels in tqdm(dataloaders[phase],desc='batches', leave = False):\n",
        "                inputs = inputs.to(device)\n",
        "                labels = labels.to(device)\n",
        "\n",
        "                # zero the parameter gradients\n",
        "                optimizer.zero_grad()\n",
        "\n",
        "                # forward\n",
        "                # track history if only in train\n",
        "                with torch.set_grad_enabled(phase == 'train'):\n",
        "                    # Get model outputs and calculate loss\n",
        "                    outputs = model(inputs)\n",
        "                    outputs = nn.functional.normalize(outputs)\n",
        "                    loss = criterion(outputs, labels)\n",
        "\n",
        "                    _, preds = torch.max(outputs, 1)\n",
        "\n",
        "                    # backward + optimize only if in training phase\n",
        "                    if phase == 'train':\n",
        "                        loss.backward()\n",
        "                        optimizer.step()\n",
        "\n",
        "                # statistics\n",
        "                running_loss += loss.item() * inputs.size(0)\n",
        "                running_corrects += torch.sum(preds == labels.data)\n",
        "\n",
        "            epoch_loss = running_loss / len(dataloaders[phase].dataset)\n",
        "            # epoch_acc = running_corrects.double() / len(dataloaders[phase].dataset)\n",
        "\n",
        "            # print('{} Loss: {:.4f} Acc: {:.4f}'.format(phase, epoch_loss, epoch_acc))\n",
        "            print('{} Loss: {:.4f}'.format(phase, epoch_loss))\n",
        "\n",
        "            # # deep copy the model\n",
        "            # if phase == 'val' and epoch_acc > best_acc:\n",
        "            #     best_acc = epoch_acc\n",
        "            #     best_model_wts = copy.deepcopy(model.state_dict())\n",
        "            # if phase == 'val':\n",
        "            #     val_acc_history.append(epoch_acc)\n",
        "\n",
        "        print()\n",
        "\n",
        "    time_elapsed = time.time() - since\n",
        "    print('Training complete in {:.0f}m {:.0f}s'.format(time_elapsed // 60, time_elapsed % 60))\n",
        "    # print('Best val Acc: {:4f}'.format(best_acc))\n",
        "\n",
        "    # load best model weights\n",
        "    model.load_state_dict(best_model_wts)\n",
        "    return model, val_acc_history"
      ]
    },
    {
      "cell_type": "code",
      "execution_count": null,
      "metadata": {
        "id": "W5h9xZJYx2OA"
      },
      "outputs": [],
      "source": [
        "# Data augmentation and normalization for training\n",
        "# Just normalization for validation\n",
        "\n",
        "input_size = 224 # Muse be 224 (3x224x224) for Densenet121\n",
        "\n",
        "# Standard Pytorch image transforms (source:https://pytorch.org/tutorials/beginner/finetuning_torchvision_models_tutorial.html)\n",
        "data_transforms = {\n",
        "    'train': transforms.Compose([\n",
        "        transforms.Resize(input_size),\n",
        "        # transforms.RandomResizedCrop(input_size),\n",
        "        # transforms.RandomRotation(degrees=(0,360)),\n",
        "        transforms.ToTensor(),\n",
        "        transforms.Normalize([0.485, 0.456, 0.406], [0.229, 0.224, 0.225])\n",
        "    ]),\n",
        "    'val': transforms.Compose([\n",
        "        transforms.Resize(input_size),\n",
        "        # transforms.RandomResizedCrop(input_size),\n",
        "        # transforms.RandomRotation(degrees=(0,360)),\n",
        "        transforms.ToTensor(),\n",
        "        transforms.Normalize([0.485, 0.456, 0.406], [0.229, 0.224, 0.225])\n",
        "    ]),\n",
        "    'test': transforms.Compose([\n",
        "        transforms.Resize(input_size),\n",
        "        transforms.ToTensor(),\n",
        "        transforms.Normalize([0.485, 0.456, 0.406], [0.229, 0.224, 0.225])\n",
        "    ]),\n",
        "}"
      ]
    },
    {
      "cell_type": "code",
      "execution_count": null,
      "metadata": {
        "colab": {
          "base_uri": "https://localhost:8080/",
          "height": 381
        },
        "id": "zdm81a5tx5Rg",
        "outputId": "37ed530a-8490-499b-861f-2a43c22408c5"
      },
      "outputs": [
        {
          "output_type": "error",
          "ename": "FileNotFoundError",
          "evalue": "ignored",
          "traceback": [
            "\u001b[0;31m---------------------------------------------------------------------------\u001b[0m",
            "\u001b[0;31mFileNotFoundError\u001b[0m                         Traceback (most recent call last)",
            "\u001b[0;32m<ipython-input-9-ae2eda89cd55>\u001b[0m in \u001b[0;36m<module>\u001b[0;34m()\u001b[0m\n\u001b[1;32m      9\u001b[0m \u001b[0;31m# Generate Datasets & Loaders\u001b[0m\u001b[0;34m\u001b[0m\u001b[0;34m\u001b[0m\u001b[0;34m\u001b[0m\u001b[0m\n\u001b[1;32m     10\u001b[0m data_loaders_dict = {phase: wound_dataloader(Wound_Dataset(data_path+\"/\"+phase, transform=data_transforms[phase]), \n\u001b[0;32m---> 11\u001b[0;31m                                              batch_size, num_workers = 0, shuffle = True, pin_memory = True) for phase in ['train', 'val']}\n\u001b[0m\u001b[1;32m     12\u001b[0m \u001b[0;34m\u001b[0m\u001b[0m\n\u001b[1;32m     13\u001b[0m \u001b[0;31m# Create Model\u001b[0m\u001b[0;34m\u001b[0m\u001b[0;34m\u001b[0m\u001b[0;34m\u001b[0m\u001b[0m\n",
            "\u001b[0;32m<ipython-input-9-ae2eda89cd55>\u001b[0m in \u001b[0;36m<dictcomp>\u001b[0;34m(.0)\u001b[0m\n\u001b[1;32m      9\u001b[0m \u001b[0;31m# Generate Datasets & Loaders\u001b[0m\u001b[0;34m\u001b[0m\u001b[0;34m\u001b[0m\u001b[0;34m\u001b[0m\u001b[0m\n\u001b[1;32m     10\u001b[0m data_loaders_dict = {phase: wound_dataloader(Wound_Dataset(data_path+\"/\"+phase, transform=data_transforms[phase]), \n\u001b[0;32m---> 11\u001b[0;31m                                              batch_size, num_workers = 0, shuffle = True, pin_memory = True) for phase in ['train', 'val']}\n\u001b[0m\u001b[1;32m     12\u001b[0m \u001b[0;34m\u001b[0m\u001b[0m\n\u001b[1;32m     13\u001b[0m \u001b[0;31m# Create Model\u001b[0m\u001b[0;34m\u001b[0m\u001b[0;34m\u001b[0m\u001b[0;34m\u001b[0m\u001b[0m\n",
            "\u001b[0;32m<ipython-input-4-eedcfc557ea5>\u001b[0m in \u001b[0;36m__init__\u001b[0;34m(self, root_dir, transform)\u001b[0m\n\u001b[1;32m     10\u001b[0m         \u001b[0mself\u001b[0m\u001b[0;34m.\u001b[0m\u001b[0mroot_dir\u001b[0m \u001b[0;34m=\u001b[0m \u001b[0mroot_dir\u001b[0m\u001b[0;34m\u001b[0m\u001b[0;34m\u001b[0m\u001b[0m\n\u001b[1;32m     11\u001b[0m         \u001b[0mself\u001b[0m\u001b[0;34m.\u001b[0m\u001b[0mtransform\u001b[0m \u001b[0;34m=\u001b[0m \u001b[0mtransform\u001b[0m\u001b[0;34m\u001b[0m\u001b[0;34m\u001b[0m\u001b[0m\n\u001b[0;32m---> 12\u001b[0;31m         \u001b[0mself\u001b[0m\u001b[0;34m.\u001b[0m\u001b[0msamples\u001b[0m\u001b[0;34m,\u001b[0m \u001b[0mself\u001b[0m\u001b[0;34m.\u001b[0m\u001b[0mtargets\u001b[0m \u001b[0;34m=\u001b[0m \u001b[0mself\u001b[0m\u001b[0;34m.\u001b[0m\u001b[0mmake_dataset\u001b[0m\u001b[0;34m(\u001b[0m\u001b[0mself\u001b[0m\u001b[0;34m.\u001b[0m\u001b[0mroot_dir\u001b[0m\u001b[0;34m)\u001b[0m\u001b[0;34m\u001b[0m\u001b[0;34m\u001b[0m\u001b[0m\n\u001b[0m\u001b[1;32m     13\u001b[0m \u001b[0;34m\u001b[0m\u001b[0m\n\u001b[1;32m     14\u001b[0m     \u001b[0;32mdef\u001b[0m \u001b[0mmake_dataset\u001b[0m\u001b[0;34m(\u001b[0m\u001b[0mself\u001b[0m\u001b[0;34m,\u001b[0m \u001b[0mroot_dir\u001b[0m\u001b[0;34m)\u001b[0m\u001b[0;34m:\u001b[0m\u001b[0;34m\u001b[0m\u001b[0;34m\u001b[0m\u001b[0m\n",
            "\u001b[0;32m<ipython-input-4-eedcfc557ea5>\u001b[0m in \u001b[0;36mmake_dataset\u001b[0;34m(self, root_dir)\u001b[0m\n\u001b[1;32m     18\u001b[0m \u001b[0;34m\u001b[0m\u001b[0m\n\u001b[1;32m     19\u001b[0m \u001b[0;34m\u001b[0m\u001b[0m\n\u001b[0;32m---> 20\u001b[0;31m         \u001b[0;32mfor\u001b[0m \u001b[0mi\u001b[0m \u001b[0;32min\u001b[0m \u001b[0mos\u001b[0m\u001b[0;34m.\u001b[0m\u001b[0mlistdir\u001b[0m\u001b[0;34m(\u001b[0m\u001b[0mroot_dir\u001b[0m\u001b[0;34m)\u001b[0m\u001b[0;34m:\u001b[0m\u001b[0;34m\u001b[0m\u001b[0;34m\u001b[0m\u001b[0m\n\u001b[0m\u001b[1;32m     21\u001b[0m             \u001b[0minstances\u001b[0m\u001b[0;34m.\u001b[0m\u001b[0mappend\u001b[0m\u001b[0;34m(\u001b[0m\u001b[0mroot_dir\u001b[0m \u001b[0;34m+\u001b[0m \u001b[0;34m\"/\"\u001b[0m \u001b[0;34m+\u001b[0m \u001b[0mi\u001b[0m\u001b[0;34m)\u001b[0m\u001b[0;34m\u001b[0m\u001b[0;34m\u001b[0m\u001b[0m\n\u001b[1;32m     22\u001b[0m             \u001b[0;31m# print(df[df['Filename'] == i]['Label_bin'])\u001b[0m\u001b[0;34m\u001b[0m\u001b[0;34m\u001b[0m\u001b[0;34m\u001b[0m\u001b[0m\n",
            "\u001b[0;31mFileNotFoundError\u001b[0m: [Errno 2] No such file or directory: '/content/drive/MyDrive/HealNet/Healer vs. Non Healer/Few_Shot_V2//train'"
          ]
        }
      ],
      "source": [
        "# Hyper Parameters:\n",
        "# data_path = \"/content/drive/MyDrive/HealNet/Healer vs. Non Healer/Infected_Uninfected_Circular_Cropped/dataset\" #path to Wound_images\n",
        "data_path = \"/content/drive/MyDrive/HealNet/Healer vs. Non Healer/Few_Shot_V2/\"\n",
        "learning_rate = 0.001\n",
        "weight_decay = 0.1\n",
        "batch_size = 33\n",
        "num_epochs = 25\n",
        "\n",
        "# Generate Datasets & Loaders\n",
        "data_loaders_dict = {phase: wound_dataloader(Wound_Dataset(data_path+\"/\"+phase, transform=data_transforms[phase]), \n",
        "                                             batch_size, num_workers = 0, shuffle = True, pin_memory = True) for phase in ['train', 'val']}\n",
        "\n",
        "# Create Model\n",
        "model = SupConClassifier()\n",
        "model.to(device)\n",
        "# model.load_encoder_wts(device)\n",
        "path_to_wts = \"/content/drive/MyDrive/HealNet/Healer vs. Non Healer/Weights/meta_learned_ENCODER.tar\" # Path to encoder wts\n",
        "# model.selfsup.encoder.load_state_dict(torch.load(path_to_wts))\n",
        "model.pre_encoder.load_state_dict(torch.load(path_to_wts))\n",
        "\n",
        "# Specify optimizer and loss function\n",
        "optimizer = torch.optim.Adam(model.parameters(), lr=learning_rate, weight_decay=weight_decay)\n",
        "# lossfun = nn.CrossEntropyLoss()\n",
        "# lossfun = SupervisedContrastiveLoss()\n",
        "lossfun = losses.SupConLoss(temperature = 0.1).to(device)"
      ]
    },
    {
      "cell_type": "code",
      "execution_count": null,
      "metadata": {
        "colab": {
          "base_uri": "https://localhost:8080/"
        },
        "id": "eVOPayFrbNl2",
        "outputId": "d61fa95a-1446-4d77-9cec-30c100f7f0ab"
      },
      "outputs": [
        {
          "output_type": "stream",
          "name": "stdout",
          "text": [
            "+--------------------------+------------+\n",
            "|         Modules          | Parameters |\n",
            "+--------------------------+------------+\n",
            "| pre_encoder.fc_16.weight |   16384    |\n",
            "|  pre_encoder.fc_16.bias  |     16     |\n",
            "|  projection.lin1.weight  |  1048576   |\n",
            "|   projection.lin1.bias   |    1024    |\n",
            "|   projection.bn.weight   |    1024    |\n",
            "|    projection.bn.bias    |    1024    |\n",
            "|  projection.lin2.weight  |   131072   |\n",
            "+--------------------------+------------+\n",
            "Total Trainable Params: 1199120\n"
          ]
        },
        {
          "output_type": "execute_result",
          "data": {
            "text/plain": [
              "1199120"
            ]
          },
          "metadata": {},
          "execution_count": 20
        }
      ],
      "source": [
        "from prettytable import PrettyTable\n",
        "\n",
        "def count_parameters(model):\n",
        "    table = PrettyTable([\"Modules\", \"Parameters\"])\n",
        "    total_params = 0\n",
        "    for name, parameter in model.named_parameters():\n",
        "        if not parameter.requires_grad: continue\n",
        "        params = parameter.numel()\n",
        "        table.add_row([name, params])\n",
        "        total_params+=params\n",
        "    print(table)\n",
        "    print(f\"Total Trainable Params: {total_params}\")\n",
        "    return total_params\n",
        "    \n",
        "count_parameters(model)"
      ]
    },
    {
      "cell_type": "code",
      "execution_count": null,
      "metadata": {
        "id": "J90hE-9cfOjz"
      },
      "outputs": [],
      "source": [
        "# print(model)"
      ]
    },
    {
      "cell_type": "code",
      "execution_count": null,
      "metadata": {
        "colab": {
          "base_uri": "https://localhost:8080/",
          "height": 385,
          "referenced_widgets": [
            "b0aaf58958bf45b188b8a72bdad9fdd1",
            "8a9fd78cd3ce40a089efa6f6061938eb",
            "b0dd5edf395d4e71a8b289354464939f",
            "a85f0b6c4be046968e6b474c93ade9e1",
            "fd2c6b12eb0646c39e17edfcf3a20849",
            "d1b3131115b2434d8f1f54c98e6de2f1",
            "87d10bc0ed6746a3bf43e94eb2273ff6",
            "27ff374885bc467f9f07e63101ea34d1",
            "562ba60a79834e1995a6b174779c4d43",
            "f27f984f981d4608a860acf4f0a49b85",
            "9bf99f0716fa48f8969a90e790dc3474"
          ]
        },
        "id": "rUz-nykJEH6-",
        "outputId": "599756f7-4da7-493c-dcd1-a24da806bb72"
      },
      "outputs": [
        {
          "output_type": "stream",
          "name": "stdout",
          "text": [
            "Epoch 0/24\n",
            "----------\n"
          ]
        },
        {
          "output_type": "display_data",
          "data": {
            "text/plain": [
              "batches:   0%|          | 0/1 [00:00<?, ?it/s]"
            ],
            "application/vnd.jupyter.widget-view+json": {
              "version_major": 2,
              "version_minor": 0,
              "model_id": "b0aaf58958bf45b188b8a72bdad9fdd1"
            }
          },
          "metadata": {}
        },
        {
          "output_type": "error",
          "ename": "RuntimeError",
          "evalue": "ignored",
          "traceback": [
            "\u001b[0;31m---------------------------------------------------------------------------\u001b[0m",
            "\u001b[0;31mRuntimeError\u001b[0m                              Traceback (most recent call last)",
            "\u001b[0;32m<ipython-input-21-302295dd4527>\u001b[0m in \u001b[0;36m<module>\u001b[0;34m()\u001b[0m\n\u001b[0;32m----> 1\u001b[0;31m \u001b[0mhealnet\u001b[0m\u001b[0;34m,\u001b[0m \u001b[0mhist\u001b[0m \u001b[0;34m=\u001b[0m \u001b[0mtrain_model\u001b[0m\u001b[0;34m(\u001b[0m\u001b[0mmodel\u001b[0m\u001b[0;34m,\u001b[0m \u001b[0mdata_loaders_dict\u001b[0m\u001b[0;34m,\u001b[0m \u001b[0mcriterion\u001b[0m\u001b[0;34m=\u001b[0m\u001b[0mlossfun\u001b[0m\u001b[0;34m,\u001b[0m \u001b[0moptimizer\u001b[0m \u001b[0;34m=\u001b[0m \u001b[0moptimizer\u001b[0m\u001b[0;34m,\u001b[0m \u001b[0mnum_epochs\u001b[0m\u001b[0;34m=\u001b[0m\u001b[0mnum_epochs\u001b[0m\u001b[0;34m)\u001b[0m\u001b[0;34m\u001b[0m\u001b[0;34m\u001b[0m\u001b[0m\n\u001b[0m",
            "\u001b[0;32m<ipython-input-13-5e8e264dab73>\u001b[0m in \u001b[0;36mtrain_model\u001b[0;34m(model, dataloaders, criterion, optimizer, num_epochs)\u001b[0m\n\u001b[1;32m     33\u001b[0m                 \u001b[0;32mwith\u001b[0m \u001b[0mtorch\u001b[0m\u001b[0;34m.\u001b[0m\u001b[0mset_grad_enabled\u001b[0m\u001b[0;34m(\u001b[0m\u001b[0mphase\u001b[0m \u001b[0;34m==\u001b[0m \u001b[0;34m'train'\u001b[0m\u001b[0;34m)\u001b[0m\u001b[0;34m:\u001b[0m\u001b[0;34m\u001b[0m\u001b[0;34m\u001b[0m\u001b[0m\n\u001b[1;32m     34\u001b[0m                     \u001b[0;31m# Get model outputs and calculate loss\u001b[0m\u001b[0;34m\u001b[0m\u001b[0;34m\u001b[0m\u001b[0;34m\u001b[0m\u001b[0m\n\u001b[0;32m---> 35\u001b[0;31m                     \u001b[0moutputs\u001b[0m \u001b[0;34m=\u001b[0m \u001b[0mmodel\u001b[0m\u001b[0;34m(\u001b[0m\u001b[0minputs\u001b[0m\u001b[0;34m)\u001b[0m\u001b[0;34m\u001b[0m\u001b[0;34m\u001b[0m\u001b[0m\n\u001b[0m\u001b[1;32m     36\u001b[0m                     \u001b[0moutputs\u001b[0m \u001b[0;34m=\u001b[0m \u001b[0mnn\u001b[0m\u001b[0;34m.\u001b[0m\u001b[0mfunctional\u001b[0m\u001b[0;34m.\u001b[0m\u001b[0mnormalize\u001b[0m\u001b[0;34m(\u001b[0m\u001b[0moutputs\u001b[0m\u001b[0;34m)\u001b[0m\u001b[0;34m\u001b[0m\u001b[0;34m\u001b[0m\u001b[0m\n\u001b[1;32m     37\u001b[0m                     \u001b[0mloss\u001b[0m \u001b[0;34m=\u001b[0m \u001b[0mcriterion\u001b[0m\u001b[0;34m(\u001b[0m\u001b[0moutputs\u001b[0m\u001b[0;34m,\u001b[0m \u001b[0mlabels\u001b[0m\u001b[0;34m)\u001b[0m\u001b[0;34m\u001b[0m\u001b[0;34m\u001b[0m\u001b[0m\n",
            "\u001b[0;32m/usr/local/lib/python3.7/dist-packages/torch/nn/modules/module.py\u001b[0m in \u001b[0;36m_call_impl\u001b[0;34m(self, *input, **kwargs)\u001b[0m\n\u001b[1;32m   1108\u001b[0m         if not (self._backward_hooks or self._forward_hooks or self._forward_pre_hooks or _global_backward_hooks\n\u001b[1;32m   1109\u001b[0m                 or _global_forward_hooks or _global_forward_pre_hooks):\n\u001b[0;32m-> 1110\u001b[0;31m             \u001b[0;32mreturn\u001b[0m \u001b[0mforward_call\u001b[0m\u001b[0;34m(\u001b[0m\u001b[0;34m*\u001b[0m\u001b[0minput\u001b[0m\u001b[0;34m,\u001b[0m \u001b[0;34m**\u001b[0m\u001b[0mkwargs\u001b[0m\u001b[0;34m)\u001b[0m\u001b[0;34m\u001b[0m\u001b[0;34m\u001b[0m\u001b[0m\n\u001b[0m\u001b[1;32m   1111\u001b[0m         \u001b[0;31m# Do not call functions when jit is used\u001b[0m\u001b[0;34m\u001b[0m\u001b[0;34m\u001b[0m\u001b[0;34m\u001b[0m\u001b[0m\n\u001b[1;32m   1112\u001b[0m         \u001b[0mfull_backward_hooks\u001b[0m\u001b[0;34m,\u001b[0m \u001b[0mnon_full_backward_hooks\u001b[0m \u001b[0;34m=\u001b[0m \u001b[0;34m[\u001b[0m\u001b[0;34m]\u001b[0m\u001b[0;34m,\u001b[0m \u001b[0;34m[\u001b[0m\u001b[0;34m]\u001b[0m\u001b[0;34m\u001b[0m\u001b[0;34m\u001b[0m\u001b[0m\n",
            "\u001b[0;32m<ipython-input-16-3024c9408dad>\u001b[0m in \u001b[0;36mforward\u001b[0;34m(self, x)\u001b[0m\n\u001b[1;32m     79\u001b[0m     \u001b[0;32mdef\u001b[0m \u001b[0mforward\u001b[0m\u001b[0;34m(\u001b[0m\u001b[0mself\u001b[0m\u001b[0;34m,\u001b[0m \u001b[0mx\u001b[0m\u001b[0;34m)\u001b[0m\u001b[0;34m:\u001b[0m\u001b[0;34m\u001b[0m\u001b[0;34m\u001b[0m\u001b[0m\n\u001b[1;32m     80\u001b[0m         \u001b[0mx\u001b[0m \u001b[0;34m=\u001b[0m \u001b[0mself\u001b[0m\u001b[0;34m.\u001b[0m\u001b[0mencoder\u001b[0m\u001b[0;34m(\u001b[0m\u001b[0mx\u001b[0m\u001b[0;34m)\u001b[0m\u001b[0;34m\u001b[0m\u001b[0;34m\u001b[0m\u001b[0m\n\u001b[0;32m---> 81\u001b[0;31m         \u001b[0mx\u001b[0m \u001b[0;34m=\u001b[0m \u001b[0mself\u001b[0m\u001b[0;34m.\u001b[0m\u001b[0mprojection\u001b[0m\u001b[0;34m(\u001b[0m\u001b[0mx\u001b[0m\u001b[0;34m)\u001b[0m\u001b[0;34m\u001b[0m\u001b[0;34m\u001b[0m\u001b[0m\n\u001b[0m\u001b[1;32m     82\u001b[0m         \u001b[0;32mreturn\u001b[0m \u001b[0mx\u001b[0m\u001b[0;34m\u001b[0m\u001b[0;34m\u001b[0m\u001b[0m\n\u001b[1;32m     83\u001b[0m \u001b[0;34m\u001b[0m\u001b[0m\n",
            "\u001b[0;32m/usr/local/lib/python3.7/dist-packages/torch/nn/modules/module.py\u001b[0m in \u001b[0;36m_call_impl\u001b[0;34m(self, *input, **kwargs)\u001b[0m\n\u001b[1;32m   1108\u001b[0m         if not (self._backward_hooks or self._forward_hooks or self._forward_pre_hooks or _global_backward_hooks\n\u001b[1;32m   1109\u001b[0m                 or _global_forward_hooks or _global_forward_pre_hooks):\n\u001b[0;32m-> 1110\u001b[0;31m             \u001b[0;32mreturn\u001b[0m \u001b[0mforward_call\u001b[0m\u001b[0;34m(\u001b[0m\u001b[0;34m*\u001b[0m\u001b[0minput\u001b[0m\u001b[0;34m,\u001b[0m \u001b[0;34m**\u001b[0m\u001b[0mkwargs\u001b[0m\u001b[0;34m)\u001b[0m\u001b[0;34m\u001b[0m\u001b[0;34m\u001b[0m\u001b[0m\n\u001b[0m\u001b[1;32m   1111\u001b[0m         \u001b[0;31m# Do not call functions when jit is used\u001b[0m\u001b[0;34m\u001b[0m\u001b[0;34m\u001b[0m\u001b[0;34m\u001b[0m\u001b[0m\n\u001b[1;32m   1112\u001b[0m         \u001b[0mfull_backward_hooks\u001b[0m\u001b[0;34m,\u001b[0m \u001b[0mnon_full_backward_hooks\u001b[0m \u001b[0;34m=\u001b[0m \u001b[0;34m[\u001b[0m\u001b[0;34m]\u001b[0m\u001b[0;34m,\u001b[0m \u001b[0;34m[\u001b[0m\u001b[0;34m]\u001b[0m\u001b[0;34m\u001b[0m\u001b[0;34m\u001b[0m\u001b[0m\n",
            "\u001b[0;32m<ipython-input-16-3024c9408dad>\u001b[0m in \u001b[0;36mforward\u001b[0;34m(self, x)\u001b[0m\n\u001b[1;32m     56\u001b[0m \u001b[0;34m\u001b[0m\u001b[0m\n\u001b[1;32m     57\u001b[0m     \u001b[0;32mdef\u001b[0m \u001b[0mforward\u001b[0m\u001b[0;34m(\u001b[0m\u001b[0mself\u001b[0m\u001b[0;34m,\u001b[0m \u001b[0mx\u001b[0m\u001b[0;34m)\u001b[0m\u001b[0;34m:\u001b[0m\u001b[0;34m\u001b[0m\u001b[0;34m\u001b[0m\u001b[0m\n\u001b[0;32m---> 58\u001b[0;31m         \u001b[0mx\u001b[0m \u001b[0;34m=\u001b[0m \u001b[0mself\u001b[0m\u001b[0;34m.\u001b[0m\u001b[0mlin1\u001b[0m\u001b[0;34m(\u001b[0m\u001b[0mx\u001b[0m\u001b[0;34m)\u001b[0m\u001b[0;34m\u001b[0m\u001b[0;34m\u001b[0m\u001b[0m\n\u001b[0m\u001b[1;32m     59\u001b[0m         \u001b[0mx\u001b[0m \u001b[0;34m=\u001b[0m \u001b[0mself\u001b[0m\u001b[0;34m.\u001b[0m\u001b[0mbn\u001b[0m\u001b[0;34m(\u001b[0m\u001b[0mx\u001b[0m\u001b[0;34m)\u001b[0m\u001b[0;34m\u001b[0m\u001b[0;34m\u001b[0m\u001b[0m\n\u001b[1;32m     60\u001b[0m         \u001b[0mx\u001b[0m \u001b[0;34m=\u001b[0m \u001b[0mself\u001b[0m\u001b[0;34m.\u001b[0m\u001b[0mrelu\u001b[0m\u001b[0;34m(\u001b[0m\u001b[0mx\u001b[0m\u001b[0;34m)\u001b[0m\u001b[0;34m\u001b[0m\u001b[0;34m\u001b[0m\u001b[0m\n",
            "\u001b[0;32m/usr/local/lib/python3.7/dist-packages/torch/nn/modules/module.py\u001b[0m in \u001b[0;36m_call_impl\u001b[0;34m(self, *input, **kwargs)\u001b[0m\n\u001b[1;32m   1108\u001b[0m         if not (self._backward_hooks or self._forward_hooks or self._forward_pre_hooks or _global_backward_hooks\n\u001b[1;32m   1109\u001b[0m                 or _global_forward_hooks or _global_forward_pre_hooks):\n\u001b[0;32m-> 1110\u001b[0;31m             \u001b[0;32mreturn\u001b[0m \u001b[0mforward_call\u001b[0m\u001b[0;34m(\u001b[0m\u001b[0;34m*\u001b[0m\u001b[0minput\u001b[0m\u001b[0;34m,\u001b[0m \u001b[0;34m**\u001b[0m\u001b[0mkwargs\u001b[0m\u001b[0;34m)\u001b[0m\u001b[0;34m\u001b[0m\u001b[0;34m\u001b[0m\u001b[0m\n\u001b[0m\u001b[1;32m   1111\u001b[0m         \u001b[0;31m# Do not call functions when jit is used\u001b[0m\u001b[0;34m\u001b[0m\u001b[0;34m\u001b[0m\u001b[0;34m\u001b[0m\u001b[0m\n\u001b[1;32m   1112\u001b[0m         \u001b[0mfull_backward_hooks\u001b[0m\u001b[0;34m,\u001b[0m \u001b[0mnon_full_backward_hooks\u001b[0m \u001b[0;34m=\u001b[0m \u001b[0;34m[\u001b[0m\u001b[0;34m]\u001b[0m\u001b[0;34m,\u001b[0m \u001b[0;34m[\u001b[0m\u001b[0;34m]\u001b[0m\u001b[0;34m\u001b[0m\u001b[0;34m\u001b[0m\u001b[0m\n",
            "\u001b[0;32m/usr/local/lib/python3.7/dist-packages/torch/nn/modules/linear.py\u001b[0m in \u001b[0;36mforward\u001b[0;34m(self, input)\u001b[0m\n\u001b[1;32m    101\u001b[0m \u001b[0;34m\u001b[0m\u001b[0m\n\u001b[1;32m    102\u001b[0m     \u001b[0;32mdef\u001b[0m \u001b[0mforward\u001b[0m\u001b[0;34m(\u001b[0m\u001b[0mself\u001b[0m\u001b[0;34m,\u001b[0m \u001b[0minput\u001b[0m\u001b[0;34m:\u001b[0m \u001b[0mTensor\u001b[0m\u001b[0;34m)\u001b[0m \u001b[0;34m->\u001b[0m \u001b[0mTensor\u001b[0m\u001b[0;34m:\u001b[0m\u001b[0;34m\u001b[0m\u001b[0;34m\u001b[0m\u001b[0m\n\u001b[0;32m--> 103\u001b[0;31m         \u001b[0;32mreturn\u001b[0m \u001b[0mF\u001b[0m\u001b[0;34m.\u001b[0m\u001b[0mlinear\u001b[0m\u001b[0;34m(\u001b[0m\u001b[0minput\u001b[0m\u001b[0;34m,\u001b[0m \u001b[0mself\u001b[0m\u001b[0;34m.\u001b[0m\u001b[0mweight\u001b[0m\u001b[0;34m,\u001b[0m \u001b[0mself\u001b[0m\u001b[0;34m.\u001b[0m\u001b[0mbias\u001b[0m\u001b[0;34m)\u001b[0m\u001b[0;34m\u001b[0m\u001b[0;34m\u001b[0m\u001b[0m\n\u001b[0m\u001b[1;32m    104\u001b[0m \u001b[0;34m\u001b[0m\u001b[0m\n\u001b[1;32m    105\u001b[0m     \u001b[0;32mdef\u001b[0m \u001b[0mextra_repr\u001b[0m\u001b[0;34m(\u001b[0m\u001b[0mself\u001b[0m\u001b[0;34m)\u001b[0m \u001b[0;34m->\u001b[0m \u001b[0mstr\u001b[0m\u001b[0;34m:\u001b[0m\u001b[0;34m\u001b[0m\u001b[0;34m\u001b[0m\u001b[0m\n",
            "\u001b[0;31mRuntimeError\u001b[0m: mat1 and mat2 shapes cannot be multiplied (33792x1 and 1024x1024)"
          ]
        }
      ],
      "source": [
        "healnet, hist = train_model(model, data_loaders_dict, criterion=lossfun, optimizer = optimizer, num_epochs=num_epochs)"
      ]
    },
    {
      "cell_type": "code",
      "source": [
        "classification_model = Classifier()"
      ],
      "metadata": {
        "id": "GMVD3POjQFQn"
      },
      "execution_count": null,
      "outputs": []
    },
    {
      "cell_type": "markdown",
      "metadata": {
        "id": "fVztal6szLJs"
      },
      "source": [
        "### EXTRAS"
      ]
    },
    {
      "cell_type": "code",
      "execution_count": null,
      "metadata": {
        "id": "WAwxm3uJjSyb"
      },
      "outputs": [],
      "source": [
        "# class SupervisedContrastiveLoss(nn.Module):\n",
        "#     def __init__(self, temperature=0.1):\n",
        "#         super(SupervisedContrastiveLoss, self).__init__()\n",
        "#         self.temperature = temperature\n",
        "\n",
        "#     def forward(self, feature_vectors, labels):\n",
        "#         # Normalize feature vectors\n",
        "#         feature_vectors_normalized = F.normalize(feature_vectors, p=2, dim=1)\n",
        "#         # Compute logits\n",
        "#         logits = torch.div(\n",
        "#             torch.matmul(\n",
        "#                 feature_vectors_normalized, torch.transpose(feature_vectors_normalized, 0, 1)\n",
        "#             ),\n",
        "#             self.temperature,\n",
        "#         )\n",
        "#         return losses.NTXentLoss(temperature=0.07)(logits, torch.squeeze(labels))"
      ]
    },
    {
      "cell_type": "code",
      "execution_count": null,
      "metadata": {
        "id": "v94xZgzUzqOe"
      },
      "outputs": [],
      "source": [
        "save_as = \"/content/drive/MyDrive/HealNet/Healer vs. Non Healer/Weights/Contrastive_Encoder_June_15\" # path and name of trained healNet weights\n",
        "torch.save(healnet.state_dict(), save_as)"
      ]
    },
    {
      "cell_type": "markdown",
      "metadata": {
        "id": "B_Hc-oz6fYxm"
      },
      "source": [
        "### SALIENCY MAP"
      ]
    },
    {
      "cell_type": "code",
      "execution_count": null,
      "metadata": {
        "colab": {
          "base_uri": "https://localhost:8080/"
        },
        "id": "c-i9VsZBB5RK",
        "outputId": "69d0e443-3c72-4482-826f-2662ccd22568"
      },
      "outputs": [
        {
          "name": "stderr",
          "output_type": "stream",
          "text": [
            "Downloading: \"https://github.com/pytorch/vision/archive/v0.10.0.zip\" to /root/.cache/torch/hub/v0.10.0.zip\n"
          ]
        },
        {
          "data": {
            "text/plain": [
              "<All keys matched successfully>"
            ]
          },
          "execution_count": 5,
          "metadata": {},
          "output_type": "execute_result"
        }
      ],
      "source": [
        "healnet = HealNet()\n",
        "healnet.to(device)\n",
        "# healnet.load_encoder_wts(device)\n",
        "path_to_healnet = \"/content/drive/MyDrive/HealNet/Healer vs. Non Healer/Weights/meta_learned.tar\" # Path to healnet weights\n",
        "healnet.load_state_dict(torch.load(path_to_healnet))"
      ]
    },
    {
      "cell_type": "code",
      "execution_count": null,
      "metadata": {
        "id": "kzxXHMSxfbia"
      },
      "outputs": [],
      "source": [
        "import torch\n",
        "import torchvision\n",
        "import torchvision.transforms as T\n",
        "import numpy as np\n",
        "import matplotlib.pyplot as plt\n",
        "from torchsummary import summary\n",
        "import requests\n",
        "from PIL import Image"
      ]
    },
    {
      "cell_type": "code",
      "execution_count": null,
      "metadata": {
        "id": "DQTgkUZ8feGc"
      },
      "outputs": [],
      "source": [
        "# Preprocess the image\n",
        "def preprocess(image, size=224):\n",
        "    transform = T.Compose([\n",
        "        T.Resize((size,size)),\n",
        "        T.ToTensor(),\n",
        "        T.Normalize(mean=[0.485, 0.456, 0.406], std=[0.229, 0.224, 0.225]),\n",
        "        T.Lambda(lambda x: x[None]),\n",
        "    ])\n",
        "    return transform(image)\n",
        "\n",
        "    # transforms.Resize(input_size),\n",
        "    #     transforms.ToTensor(),\n",
        "    #     transforms.Normalize([0.485, 0.456, 0.406], [0.229, 0.224, 0.225])\n",
        "\n",
        "def deprocess(image):\n",
        "    transform = T.Compose([\n",
        "        T.Lambda(lambda x: x[0]),\n",
        "        T.Normalize(mean=[0, 0, 0], std=[4.3668, 4.4643, 4.4444]),\n",
        "        T.Normalize(mean=[-0.485, -0.456, -0.406], std=[1, 1, 1]),\n",
        "        T.ToPILImage(),\n",
        "    ])\n",
        "    return transform(image)\n",
        "\n",
        "def show_img(PIL_IMG):\n",
        "    plt.imshow(np.asarray(PIL_IMG))"
      ]
    },
    {
      "cell_type": "code",
      "execution_count": null,
      "metadata": {
        "id": "T_ALMW0TfhZu"
      },
      "outputs": [],
      "source": [
        "img = Image.open('/content/drive/MyDrive/HealNet/Healer vs. Non Healer/Few_Shot_Learning_Data/support_set/Patient19_Day1_NonHealer.png') "
      ]
    },
    {
      "cell_type": "code",
      "execution_count": null,
      "metadata": {
        "colab": {
          "base_uri": "https://localhost:8080/",
          "height": 248
        },
        "id": "hIw0GrtIfpp_",
        "outputId": "36e12bba-a848-4569-d1ec-298c78b34dc0"
      },
      "outputs": [
        {
          "data": {
            "image/png": "[encoded data removed]",
            "text/plain": [
              "<Figure size 432x288 with 1 Axes>"
            ]
          },
          "metadata": {},
          "output_type": "display_data"
        }
      ],
      "source": [
        "# preprocess the image\n",
        "X = preprocess(img)\n",
        "\n",
        "# we would run the model in evaluation mode\n",
        "healnet.eval()\n",
        "\n",
        "# we need to find the gradient with respect to the input image, so we need to call requires_grad_ on it\n",
        "X.requires_grad_()\n",
        "\n",
        "'''\n",
        "forward pass through the model to get the scores, note that VGG-19 model doesn't perform softmax at the end\n",
        "and we also don't need softmax, we need scores, so that's perfect for us.\n",
        "'''\n",
        "\n",
        "scores = healnet(X.cuda())\n",
        "\n",
        "# Get the index corresponding to the maximum score and the maximum score itself.\n",
        "score_max_index = scores.argmax()\n",
        "score_max = scores[0,score_max_index]\n",
        "\n",
        "'''\n",
        "backward function on score_max performs the backward pass in the computation graph and calculates the gradient of \n",
        "score_max with respect to nodes in the computation graph\n",
        "'''\n",
        "score_max.backward()\n",
        "\n",
        "'''\n",
        "Saliency would be the gradient with respect to the input image now. But note that the input image has 3 channels,\n",
        "R, G and B. To derive a single class saliency value for each pixel (i, j),  we take the maximum magnitude\n",
        "across all colour channels.\n",
        "'''\n",
        "saliency, _ = torch.max(X.grad.data.abs(),dim=1)\n",
        "\n",
        "# code to plot the saliency map as a heatmap\n",
        "plt.imshow(saliency[0], cmap=plt.cm.hot)\n",
        "plt.axis('off')\n",
        "plt.show()"
      ]
    }
  ],
  "metadata": {
    "accelerator": "GPU",
    "colab": {
      "collapsed_sections": [],
      "name": "Supervised Contrastive Learning 3",
      "provenance": []
    },
    "kernelspec": {
      "display_name": "Python 3",
      "name": "python3"
    },
    "language_info": {
      "name": "python"
    },
    "widgets": {
      "application/vnd.jupyter.widget-state+json": {
        "b0aaf58958bf45b188b8a72bdad9fdd1": {
          "model_module": "@jupyter-widgets/controls",
          "model_name": "HBoxModel",
          "model_module_version": "1.5.0",
          "state": {
            "_dom_classes": [],
            "_model_module": "@jupyter-widgets/controls",
            "_model_module_version": "1.5.0",
            "_model_name": "HBoxModel",
            "_view_count": null,
            "_view_module": "@jupyter-widgets/controls",
            "_view_module_version": "1.5.0",
            "_view_name": "HBoxView",
            "box_style": "",
            "children": [
              "IPY_MODEL_8a9fd78cd3ce40a089efa6f6061938eb",
              "IPY_MODEL_b0dd5edf395d4e71a8b289354464939f",
              "IPY_MODEL_a85f0b6c4be046968e6b474c93ade9e1"
            ],
            "layout": "IPY_MODEL_fd2c6b12eb0646c39e17edfcf3a20849"
          }
        },
        "8a9fd78cd3ce40a089efa6f6061938eb": {
          "model_module": "@jupyter-widgets/controls",
          "model_name": "HTMLModel",
          "model_module_version": "1.5.0",
          "state": {
            "_dom_classes": [],
            "_model_module": "@jupyter-widgets/controls",
            "_model_module_version": "1.5.0",
            "_model_name": "HTMLModel",
            "_view_count": null,
            "_view_module": "@jupyter-widgets/controls",
            "_view_module_version": "1.5.0",
            "_view_name": "HTMLView",
            "description": "",
            "description_tooltip": null,
            "layout": "IPY_MODEL_d1b3131115b2434d8f1f54c98e6de2f1",
            "placeholder": "​",
            "style": "IPY_MODEL_87d10bc0ed6746a3bf43e94eb2273ff6",
            "value": "batches:   0%"
          }
        },
        "b0dd5edf395d4e71a8b289354464939f": {
          "model_module": "@jupyter-widgets/controls",
          "model_name": "FloatProgressModel",
          "model_module_version": "1.5.0",
          "state": {
            "_dom_classes": [],
            "_model_module": "@jupyter-widgets/controls",
            "_model_module_version": "1.5.0",
            "_model_name": "FloatProgressModel",
            "_view_count": null,
            "_view_module": "@jupyter-widgets/controls",
            "_view_module_version": "1.5.0",
            "_view_name": "ProgressView",
            "bar_style": "danger",
            "description": "",
            "description_tooltip": null,
            "layout": "IPY_MODEL_27ff374885bc467f9f07e63101ea34d1",
            "max": 1,
            "min": 0,
            "orientation": "horizontal",
            "style": "IPY_MODEL_562ba60a79834e1995a6b174779c4d43",
            "value": 0
          }
        },
        "a85f0b6c4be046968e6b474c93ade9e1": {
          "model_module": "@jupyter-widgets/controls",
          "model_name": "HTMLModel",
          "model_module_version": "1.5.0",
          "state": {
            "_dom_classes": [],
            "_model_module": "@jupyter-widgets/controls",
            "_model_module_version": "1.5.0",
            "_model_name": "HTMLModel",
            "_view_count": null,
            "_view_module": "@jupyter-widgets/controls",
            "_view_module_version": "1.5.0",
            "_view_name": "HTMLView",
            "description": "",
            "description_tooltip": null,
            "layout": "IPY_MODEL_f27f984f981d4608a860acf4f0a49b85",
            "placeholder": "​",
            "style": "IPY_MODEL_9bf99f0716fa48f8969a90e790dc3474",
            "value": " 0/1 [00:10&lt;?, ?it/s]"
          }
        },
        "fd2c6b12eb0646c39e17edfcf3a20849": {
          "model_module": "@jupyter-widgets/base",
          "model_name": "LayoutModel",
          "model_module_version": "1.2.0",
          "state": {
            "_model_module": "@jupyter-widgets/base",
            "_model_module_version": "1.2.0",
            "_model_name": "LayoutModel",
            "_view_count": null,
            "_view_module": "@jupyter-widgets/base",
            "_view_module_version": "1.2.0",
            "_view_name": "LayoutView",
            "align_content": null,
            "align_items": null,
            "align_self": null,
            "border": null,
            "bottom": null,
            "display": null,
            "flex": null,
            "flex_flow": null,
            "grid_area": null,
            "grid_auto_columns": null,
            "grid_auto_flow": null,
            "grid_auto_rows": null,
            "grid_column": null,
            "grid_gap": null,
            "grid_row": null,
            "grid_template_areas": null,
            "grid_template_columns": null,
            "grid_template_rows": null,
            "height": null,
            "justify_content": null,
            "justify_items": null,
            "left": null,
            "margin": null,
            "max_height": null,
            "max_width": null,
            "min_height": null,
            "min_width": null,
            "object_fit": null,
            "object_position": null,
            "order": null,
            "overflow": null,
            "overflow_x": null,
            "overflow_y": null,
            "padding": null,
            "right": null,
            "top": null,
            "visibility": null,
            "width": null
          }
        },
        "d1b3131115b2434d8f1f54c98e6de2f1": {
          "model_module": "@jupyter-widgets/base",
          "model_name": "LayoutModel",
          "model_module_version": "1.2.0",
          "state": {
            "_model_module": "@jupyter-widgets/base",
            "_model_module_version": "1.2.0",
            "_model_name": "LayoutModel",
            "_view_count": null,
            "_view_module": "@jupyter-widgets/base",
            "_view_module_version": "1.2.0",
            "_view_name": "LayoutView",
            "align_content": null,
            "align_items": null,
            "align_self": null,
            "border": null,
            "bottom": null,
            "display": null,
            "flex": null,
            "flex_flow": null,
            "grid_area": null,
            "grid_auto_columns": null,
            "grid_auto_flow": null,
            "grid_auto_rows": null,
            "grid_column": null,
            "grid_gap": null,
            "grid_row": null,
            "grid_template_areas": null,
            "grid_template_columns": null,
            "grid_template_rows": null,
            "height": null,
            "justify_content": null,
            "justify_items": null,
            "left": null,
            "margin": null,
            "max_height": null,
            "max_width": null,
            "min_height": null,
            "min_width": null,
            "object_fit": null,
            "object_position": null,
            "order": null,
            "overflow": null,
            "overflow_x": null,
            "overflow_y": null,
            "padding": null,
            "right": null,
            "top": null,
            "visibility": null,
            "width": null
          }
        },
        "87d10bc0ed6746a3bf43e94eb2273ff6": {
          "model_module": "@jupyter-widgets/controls",
          "model_name": "DescriptionStyleModel",
          "model_module_version": "1.5.0",
          "state": {
            "_model_module": "@jupyter-widgets/controls",
            "_model_module_version": "1.5.0",
            "_model_name": "DescriptionStyleModel",
            "_view_count": null,
            "_view_module": "@jupyter-widgets/base",
            "_view_module_version": "1.2.0",
            "_view_name": "StyleView",
            "description_width": ""
          }
        },
        "27ff374885bc467f9f07e63101ea34d1": {
          "model_module": "@jupyter-widgets/base",
          "model_name": "LayoutModel",
          "model_module_version": "1.2.0",
          "state": {
            "_model_module": "@jupyter-widgets/base",
            "_model_module_version": "1.2.0",
            "_model_name": "LayoutModel",
            "_view_count": null,
            "_view_module": "@jupyter-widgets/base",
            "_view_module_version": "1.2.0",
            "_view_name": "LayoutView",
            "align_content": null,
            "align_items": null,
            "align_self": null,
            "border": null,
            "bottom": null,
            "display": null,
            "flex": null,
            "flex_flow": null,
            "grid_area": null,
            "grid_auto_columns": null,
            "grid_auto_flow": null,
            "grid_auto_rows": null,
            "grid_column": null,
            "grid_gap": null,
            "grid_row": null,
            "grid_template_areas": null,
            "grid_template_columns": null,
            "grid_template_rows": null,
            "height": null,
            "justify_content": null,
            "justify_items": null,
            "left": null,
            "margin": null,
            "max_height": null,
            "max_width": null,
            "min_height": null,
            "min_width": null,
            "object_fit": null,
            "object_position": null,
            "order": null,
            "overflow": null,
            "overflow_x": null,
            "overflow_y": null,
            "padding": null,
            "right": null,
            "top": null,
            "visibility": null,
            "width": null
          }
        },
        "562ba60a79834e1995a6b174779c4d43": {
          "model_module": "@jupyter-widgets/controls",
          "model_name": "ProgressStyleModel",
          "model_module_version": "1.5.0",
          "state": {
            "_model_module": "@jupyter-widgets/controls",
            "_model_module_version": "1.5.0",
            "_model_name": "ProgressStyleModel",
            "_view_count": null,
            "_view_module": "@jupyter-widgets/base",
            "_view_module_version": "1.2.0",
            "_view_name": "StyleView",
            "bar_color": null,
            "description_width": ""
          }
        },
        "f27f984f981d4608a860acf4f0a49b85": {
          "model_module": "@jupyter-widgets/base",
          "model_name": "LayoutModel",
          "model_module_version": "1.2.0",
          "state": {
            "_model_module": "@jupyter-widgets/base",
            "_model_module_version": "1.2.0",
            "_model_name": "LayoutModel",
            "_view_count": null,
            "_view_module": "@jupyter-widgets/base",
            "_view_module_version": "1.2.0",
            "_view_name": "LayoutView",
            "align_content": null,
            "align_items": null,
            "align_self": null,
            "border": null,
            "bottom": null,
            "display": null,
            "flex": null,
            "flex_flow": null,
            "grid_area": null,
            "grid_auto_columns": null,
            "grid_auto_flow": null,
            "grid_auto_rows": null,
            "grid_column": null,
            "grid_gap": null,
            "grid_row": null,
            "grid_template_areas": null,
            "grid_template_columns": null,
            "grid_template_rows": null,
            "height": null,
            "justify_content": null,
            "justify_items": null,
            "left": null,
            "margin": null,
            "max_height": null,
            "max_width": null,
            "min_height": null,
            "min_width": null,
            "object_fit": null,
            "object_position": null,
            "order": null,
            "overflow": null,
            "overflow_x": null,
            "overflow_y": null,
            "padding": null,
            "right": null,
            "top": null,
            "visibility": null,
            "width": null
          }
        },
        "9bf99f0716fa48f8969a90e790dc3474": {
          "model_module": "@jupyter-widgets/controls",
          "model_name": "DescriptionStyleModel",
          "model_module_version": "1.5.0",
          "state": {
            "_model_module": "@jupyter-widgets/controls",
            "_model_module_version": "1.5.0",
            "_model_name": "DescriptionStyleModel",
            "_view_count": null,
            "_view_module": "@jupyter-widgets/base",
            "_view_module_version": "1.2.0",
            "_view_name": "StyleView",
            "description_width": ""
          }
        }
      }
    }
  },
  "nbformat": 4,
  "nbformat_minor": 0
}