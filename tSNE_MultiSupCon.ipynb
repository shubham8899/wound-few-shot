{
  "nbformat": 4,
  "nbformat_minor": 0,
  "metadata": {
    "colab": {
      "name": "Copy of T-SNE_plot.ipynb",
      "provenance": [],
      "collapsed_sections": []
    },
    "kernelspec": {
      "name": "python3",
      "display_name": "Python 3"
    },
    "language_info": {
      "name": "python"
    },
    "accelerator": "GPU"
  },
  "cells": [
    {
      "cell_type": "code",
      "source": [
        "!pip install natsort"
      ],
      "metadata": {
        "id": "KWyyyDfSKllo",
        "colab": {
          "base_uri": "https://localhost:8080/"
        },
        "outputId": "e7b139ef-a5d3-42e3-e5c7-66a867c2317e"
      },
      "execution_count": null,
      "outputs": [
        {
          "output_type": "stream",
          "name": "stdout",
          "text": [
            "Looking in indexes: https://pypi.org/simple, https://us-python.pkg.dev/colab-wheels/public/simple/\n",
            "Requirement already satisfied: natsort in /usr/local/lib/python3.7/dist-packages (5.5.0)\n"
          ]
        }
      ]
    },
    {
      "cell_type": "code",
      "source": [
        "from google.colab import drive\n",
        "drive.mount('/content/drive')"
      ],
      "metadata": {
        "colab": {
          "base_uri": "https://localhost:8080/"
        },
        "id": "Y4PtMWqeGR6a",
        "outputId": "33c91cb8-ff38-4e4f-8d0c-831b1547bfb2"
      },
      "execution_count": 1,
      "outputs": [
        {
          "output_type": "stream",
          "name": "stdout",
          "text": [
            "Mounted at /content/drive\n"
          ]
        }
      ]
    },
    {
      "cell_type": "code",
      "execution_count": 2,
      "metadata": {
        "id": "msVchLD_81ZE"
      },
      "outputs": [],
      "source": [
        "import os\n",
        "import numpy as np\n",
        "import time\n",
        "import torch\n",
        "import copy, re\n",
        "import natsort\n",
        "from PIL import Image\n",
        "import pandas as pd\n",
        "from collections import Counter\n",
        "from tqdm.notebook import trange, tqdm\n",
        "import torch.nn as nn\n",
        "import torch.nn.functional as F\n",
        "from torchsummary import summary\n",
        "from torchvision import transforms\n",
        "from torch.utils.data import Dataset, DataLoader\n",
        "from torchvision.io import read_image, ImageReadMode\n",
        "# from easyfsl.samplers import TaskSampler\n",
        "# from easyfsl.utils import plot_images, sliding_average\n",
        "device = torch.device(\"cuda:0\" if torch.cuda.is_available() else \"cpu\")\n",
        "%matplotlib inline\n",
        "import matplotlib.pyplot as plt\n",
        "from mpl_toolkits.mplot3d import Axes3D\n",
        "import seaborn as sns\n",
        "from sklearn.manifold import TSNE\n"
      ]
    },
    {
      "cell_type": "code",
      "source": [
        "class Human_Wound_Dataset(Dataset):\n",
        "    def __init__(self, root_dir, transform=None):\n",
        "        self.root_dir = root_dir\n",
        "        self.transform = transform \n",
        "        # self.labels_csv = pd.read_csv('/content/gdrive/MyDrive/HealNet/Healer vs. Non Healer/Few_Shot_Learning_Data/Human_Labels_Final.csv')\n",
        "        self.samples, self.targets, self.patientID = self.make_dataset(self.root_dir)\n",
        "   \n",
        "    def make_dataset(self, root_dir):\n",
        "        image_list = os.listdir(root_dir)\n",
        "        # image_list.sort(key=lambda f: int(re.sub('\\D', '', f)))\n",
        "        image_list = natsort.natsorted(image_list)\n",
        "        # print(image_list)\n",
        "\n",
        "        final_data_list = []\n",
        "\n",
        "\n",
        "        patient_ID_list = []\n",
        "        cls_counter = {}\n",
        "        day_counter = 0\n",
        "        dataset_list = []\n",
        "        clss_list_encoded = []\n",
        "\n",
        "        for image_name in image_list:\n",
        "            final_data_list.append(root_dir + image_name)\n",
        "            patiendID, day, cls = image_name.split(\"_\")\n",
        "            patient_ID_list.append(int(patiendID[7:]))\n",
        "            cls = cls[:-4]\n",
        "            if cls == 'Healer':\n",
        "                clss_list_encoded.append(1)\n",
        "            else:\n",
        "                clss_list_encoded.append(0)\n",
        "        # print(final_data_list)\n",
        "        return final_data_list, clss_list_encoded, patient_ID_list\n",
        "\n",
        "    def pil_loader(self, path):\n",
        "        # open path as file to avoid ResourceWarning (https://github.com/python-pillow/Pillow/issues/835)\n",
        "        print(path)\n",
        "        img = Image.open(path)\n",
        "        img = img.convert('RGB')\n",
        "        img = img.resize((224,224), Image.BICUBIC)\n",
        "        return img\n",
        "    def __getitem__(self, index: int):\n",
        "        \"\"\"\n",
        "        Returns tensor data and label.\n",
        "        Args:\n",
        "            index (int): Index\n",
        "        Returns:\n",
        "            tuple: (sample, target) where sample is a tensor of input data\n",
        "                    target is class of sample.\n",
        "        \"\"\"\n",
        "        # Get images and targets, drop alpha\n",
        "        img_path = self.samples[index]\n",
        "        img = self.pil_loader(img_path)\n",
        "\n",
        "        if self.transform:\n",
        "            img = self.transform(img)\n",
        "        target = self.targets[index]\n",
        "        patientID = self.patientID[index]\n",
        "\n",
        "        return img, target, patientID\n",
        "\n",
        "    def __len__(self):\n",
        "        return len(self.samples)"
      ],
      "metadata": {
        "id": "oENu8vurw718"
      },
      "execution_count": 3,
      "outputs": []
    },
    {
      "cell_type": "code",
      "source": [
        "human = Human_Wound_Dataset('/content/drive/MyDrive/HealNet/Healer vs. Non Healer/Few_Shot_Learning_Data/All_Patients_Final/')"
      ],
      "metadata": {
        "id": "BwIq5mjszhnZ"
      },
      "execution_count": 4,
      "outputs": []
    },
    {
      "cell_type": "markdown",
      "source": [
        ""
      ],
      "metadata": {
        "id": "Ou73iR4JUh-a"
      }
    },
    {
      "cell_type": "code",
      "source": [
        "def wound_collate(batch):\n",
        "    # Form a tensor of first tuple items in batch\n",
        "    data = torch.stack([item[0] for item in batch])  \n",
        "    # Tensorize targets\n",
        "    target = [item[1] for item in batch]\n",
        "    target = torch.LongTensor(target)\n",
        "    patiendID = [item[2] for item in batch]\n",
        "    patiendID = torch.LongTensor(patiendID)\n",
        "    # Return tuple of data & targets\n",
        "    return [data, target, patiendID]"
      ],
      "metadata": {
        "id": "ZlV1OWkCSDBm"
      },
      "execution_count": 5,
      "outputs": []
    },
    {
      "cell_type": "code",
      "source": [
        "def wound_dataloader(dataset, batch_size: int, num_workers = 0, shuffle = False, pin_memory = False):\n",
        "    return DataLoader(\n",
        "        dataset,\n",
        "        batch_size=batch_size,\n",
        "        collate_fn=wound_collate,\n",
        "        num_workers=num_workers,\n",
        "        shuffle = shuffle,\n",
        "        pin_memory = pin_memory)"
      ],
      "metadata": {
        "id": "YFyF62s--Ct0"
      },
      "execution_count": 6,
      "outputs": []
    },
    {
      "cell_type": "code",
      "source": [
        "input_size = 224 # Muse be 224 (3x224x224) for Densenet121\n",
        "\n",
        "# Standard Pytorch image transforms (source:https://pytorch.org/tutorials/beginner/finetuning_torchvision_models_tutorial.html)\n",
        "data_transforms = transforms.Compose([\n",
        "        # transforms.Resize(input_size),\n",
        "        transforms.ToTensor(),\n",
        "        transforms.Normalize([0.485, 0.456, 0.406], [0.229, 0.224, 0.225])\n",
        "    ])"
      ],
      "metadata": {
        "id": "vuPlTfrLO95B"
      },
      "execution_count": 7,
      "outputs": []
    },
    {
      "cell_type": "code",
      "source": [
        "class Encoder(nn.Module):\n",
        "    \"\"\"\n",
        "    Encoder model Pytorch. \n",
        "    \"\"\"   \n",
        "    def __init__(self):\n",
        "        # Initialize self._modules as OrderedDict\n",
        "        super(Encoder, self).__init__() \n",
        "        # Initialize densenet121\n",
        "        self.embed_model = torch.hub.load('pytorch/vision:v0.10.0', 'densenet121', pretrained=False)\n",
        "        # Remove Classifying layer\n",
        "        self.embed_model = nn.Sequential(*list(self.embed_model.children())[:-1])\n",
        "        # 7x7 average pool layer\n",
        "        self.avg = nn.AvgPool2d(kernel_size=7, stride=1)\n",
        "        # Left image connected layers\n",
        "        self.fc_16 = nn.Linear(1024, 16)\n",
        "\n",
        "\n",
        "    def forward(self, x):\n",
        "        # Embed Left\n",
        "        u1 = self.embed_model(x)\n",
        "        u1 = self.avg(u1)\n",
        "        u1 = u1.view(-1,1024)\n",
        "        u1 = self.fc_16(u1)\n",
        "        #u1 = torch.relu(u1)\n",
        "        return u1\n",
        "\n",
        "    def load_embed_wts(self, device):\n",
        "        \"\"\"\n",
        "        load pretrained model weights, use only when transfer learning from ImageNET data\n",
        "        \"\"\"\n",
        "        # Initialize densenet121\n",
        "        self.embed_model = torch.hub.load('pytorch/vision:v0.10.0', 'densenet121', pretrained=True).to(device)\n",
        "\n",
        "        # Remove Classifying layer\n",
        "        self.embed_model = nn.Sequential(*list(self.embed_model.children())[:-1])\n",
        "\n",
        "class Projection(nn.Module):\n",
        "    \"\"\"\n",
        "    Creates projection head\n",
        "    Args:\n",
        "        n_in (int): Number of input features\n",
        "        n_hidden (int): Number of hidden features\n",
        "        n_out (int): Number of output features\n",
        "        use_bn (bool): Whether to use batch norm\n",
        "    \"\"\"\n",
        "    def __init__(self, n_in: int, n_hidden: int, n_out: int,\n",
        "                use_bn: bool = True):\n",
        "        super().__init__()\n",
        "        \n",
        "        # No point in using bias if we've batch norm\n",
        "        self.lin1 = nn.Linear(1024, 1024, bias = True)\n",
        "        self.bn = nn.BatchNorm1d(1024)\n",
        "        self.relu = nn.ReLU()\n",
        "        # No bias for the final linear layer\n",
        "        self.lin2 = nn.Linear(1024, 128, bias=False)\n",
        "    \n",
        "    def forward(self, x):\n",
        "        x = self.lin1(x)\n",
        "        x = self.bn(x)\n",
        "        x = self.relu(x)\n",
        "        x = self.lin2(x)\n",
        "        return x\n",
        "\n",
        "class SupConClassifier(nn.Module):\n",
        "    def __init__(self, projection_n_in: int = 16,\n",
        "               projection_n_hidden: int = 16, projection_n_out: int = 16,\n",
        "               projection_use_bn: bool = True):\n",
        "        super().__init__()\n",
        "        \n",
        "        # self.encoder = Encoder()\n",
        "        self.pre_encoder = Encoder()\n",
        "        self.encoder = nn.Sequential(*list(self.pre_encoder.children())[:-1])\n",
        "\n",
        "        for param in self.encoder.parameters():\n",
        "            param.requires_grad = False\n",
        "        self.projection = Projection(projection_n_in, projection_n_hidden,\n",
        "                                    projection_n_out, projection_use_bn)\n",
        "  \n",
        "    def forward(self, x):\n",
        "        x = self.encoder(x)\n",
        "        x = x.view(-1,1024)\n",
        "        x = self.projection(x)\n",
        "        return x\n",
        "\n",
        "class Classifier(nn.Module):\n",
        "    def __init__(self):\n",
        "        super().__init__()\n",
        "        self.selfsup = SupConClassifier()\n",
        "        self.middle = nn.Linear(128,32)\n",
        "        # self.relu = nn.ReLU()\n",
        "        # self.classifier = nn.Linear(4,2)\n",
        "\n",
        "    def forward(self, x):\n",
        "        x = self. selfsup(x)\n",
        "        x = self. middle(x)\n",
        "        # x = self. middle(x)\n",
        "        # x = self.classifier(x)\n",
        "\n",
        "        return x"
      ],
      "metadata": {
        "id": "O25d6EkcviMy"
      },
      "execution_count": 8,
      "outputs": []
    },
    {
      "cell_type": "code",
      "source": [
        "def train_model(model, dataloader):\n",
        "    model.eval()\n",
        "    image_ftr_encodings = []\n",
        "    image_ftr_labels = []\n",
        "    patiend_id_list = []\n",
        "    length = len(dataloader)\n",
        "    for image, image_label, patiendID in dataloader:\n",
        "        image_ftr = model(image)\n",
        "        image_ftr_encodings.append(image_ftr.cpu().detach().numpy())\n",
        "        image_ftr_labels.extend(image_label.cpu().detach().numpy().tolist())\n",
        "        patiend_id_list.extend(patiendID.cpu().detach().numpy().tolist())\n",
        "        del image_ftr\n",
        "    image_ftr_encodings = np.array(image_ftr_encodings)\n",
        "    print(image_ftr_encodings.shape)\n",
        "    image_ftr_encodings = np.reshape(image_ftr_encodings, (length, 128))\n",
        "    return image_ftr_encodings, image_ftr_labels, patiend_id_list"
      ],
      "metadata": {
        "id": "LZ7zotJbB-A5"
      },
      "execution_count": 9,
      "outputs": []
    },
    {
      "cell_type": "code",
      "source": [
        "sequence_length = 4\n",
        "fewshot = SupConClassifier()\n",
        "fewshot.to('cpu')\n",
        "path = '/content/drive/MyDrive/HealNet/Healer vs. Non Healer/Few_Shot_Learning_Data/All_Patients_Final/'\n",
        "\n",
        "# fewshot.load_encoder_wts(device)\n",
        "# path_to_encoder = '/content/drive/MyDrive/HealNet/Healer vs. Non Healer/Weights/meta_learned_ENCODER.tar'\n",
        "path_to_encoder = \"/content/drive/MyDrive/HealNet/Healer vs. Non Healer/Weights/Contrastive_Encoder_June_20\" # Path to healnet weights\n",
        "fewshot.load_state_dict(torch.load(path_to_encoder, map_location='cpu'))\n",
        "data_path = '/content/drive/MyDrive/HealNet/Healer vs. Non Healer/Few_Shot_Learning_Data'\n",
        "batch_size = 1\n",
        "data_loader = wound_dataloader(Human_Wound_Dataset(path, transform=data_transforms), \n",
        "                                             batch_size, num_workers = 0, shuffle = False, pin_memory = True)"
      ],
      "metadata": {
        "id": "RHvwQIG5s4FT",
        "colab": {
          "base_uri": "https://localhost:8080/"
        },
        "outputId": "e3327ace-873a-4de3-a95c-729ce4fd5a28"
      },
      "execution_count": 10,
      "outputs": [
        {
          "output_type": "stream",
          "name": "stderr",
          "text": [
            "Downloading: \"https://github.com/pytorch/vision/archive/v0.10.0.zip\" to /root/.cache/torch/hub/v0.10.0.zip\n"
          ]
        }
      ]
    },
    {
      "cell_type": "code",
      "source": [
        "from prettytable import PrettyTable\n",
        "\n",
        "def count_parameters(model):\n",
        "    table = PrettyTable([\"Modules\", \"Parameters\"])\n",
        "    total_params = 0\n",
        "    for name, parameter in model.named_parameters():\n",
        "        if not parameter.requires_grad: continue\n",
        "        params = parameter.numel()\n",
        "        table.add_row([name, params])\n",
        "        total_params+=params\n",
        "    print(table)\n",
        "    print(f\"Total Trainable Params: {total_params}\")\n",
        "    return total_params\n",
        "\n",
        "# embed_model = nn.Sequential(*list(fewshot.children()))\n",
        "count_parameters(fewshot)"
      ],
      "metadata": {
        "colab": {
          "base_uri": "https://localhost:8080/"
        },
        "id": "wY7_v2Rr0i1g",
        "outputId": "fe733f80-ceb7-42a3-9636-e75673a73ec8"
      },
      "execution_count": 11,
      "outputs": [
        {
          "output_type": "stream",
          "name": "stdout",
          "text": [
            "+--------------------------+------------+\n",
            "|         Modules          | Parameters |\n",
            "+--------------------------+------------+\n",
            "| pre_encoder.fc_16.weight |   16384    |\n",
            "|  pre_encoder.fc_16.bias  |     16     |\n",
            "|  projection.lin1.weight  |  1048576   |\n",
            "|   projection.lin1.bias   |    1024    |\n",
            "|   projection.bn.weight   |    1024    |\n",
            "|    projection.bn.bias    |    1024    |\n",
            "|  projection.lin2.weight  |   131072   |\n",
            "+--------------------------+------------+\n",
            "Total Trainable Params: 1199120\n"
          ]
        },
        {
          "output_type": "execute_result",
          "data": {
            "text/plain": [
              "1199120"
            ]
          },
          "metadata": {},
          "execution_count": 11
        }
      ]
    },
    {
      "cell_type": "code",
      "source": [
        "combined, combined_labels, combined_ids = train_model(fewshot, data_loader)"
      ],
      "metadata": {
        "id": "deUxh8-KroH2",
        "colab": {
          "base_uri": "https://localhost:8080/"
        },
        "outputId": "3ad9afd0-860e-4e2a-83e2-7c1cb55075b8"
      },
      "execution_count": 12,
      "outputs": [
        {
          "output_type": "stream",
          "name": "stdout",
          "text": [
            "/content/drive/MyDrive/HealNet/Healer vs. Non Healer/Few_Shot_Learning_Data/All_Patients_Final/Patient0_Day0_Healer.png\n",
            "/content/drive/MyDrive/HealNet/Healer vs. Non Healer/Few_Shot_Learning_Data/All_Patients_Final/Patient0_Day1_Healer.png\n",
            "/content/drive/MyDrive/HealNet/Healer vs. Non Healer/Few_Shot_Learning_Data/All_Patients_Final/Patient0_Day2_Healer.png\n",
            "/content/drive/MyDrive/HealNet/Healer vs. Non Healer/Few_Shot_Learning_Data/All_Patients_Final/Patient0_Day3_Healer.png\n",
            "/content/drive/MyDrive/HealNet/Healer vs. Non Healer/Few_Shot_Learning_Data/All_Patients_Final/Patient0_Day4_Healer.png\n",
            "/content/drive/MyDrive/HealNet/Healer vs. Non Healer/Few_Shot_Learning_Data/All_Patients_Final/Patient0_Day5_Healer.png\n",
            "/content/drive/MyDrive/HealNet/Healer vs. Non Healer/Few_Shot_Learning_Data/All_Patients_Final/Patient1_Day0_NonHealer.png\n",
            "/content/drive/MyDrive/HealNet/Healer vs. Non Healer/Few_Shot_Learning_Data/All_Patients_Final/Patient1_Day1_NonHealer.png\n",
            "/content/drive/MyDrive/HealNet/Healer vs. Non Healer/Few_Shot_Learning_Data/All_Patients_Final/Patient1_Day2_NonHealer.png\n",
            "/content/drive/MyDrive/HealNet/Healer vs. Non Healer/Few_Shot_Learning_Data/All_Patients_Final/Patient1_Day3_NonHealer.png\n",
            "/content/drive/MyDrive/HealNet/Healer vs. Non Healer/Few_Shot_Learning_Data/All_Patients_Final/Patient1_Day4_NonHealer.png\n",
            "/content/drive/MyDrive/HealNet/Healer vs. Non Healer/Few_Shot_Learning_Data/All_Patients_Final/Patient1_Day5_NonHealer.png\n",
            "/content/drive/MyDrive/HealNet/Healer vs. Non Healer/Few_Shot_Learning_Data/All_Patients_Final/Patient1_Day6_NonHealer.png\n",
            "/content/drive/MyDrive/HealNet/Healer vs. Non Healer/Few_Shot_Learning_Data/All_Patients_Final/Patient1_Day7_NonHealer.png\n",
            "/content/drive/MyDrive/HealNet/Healer vs. Non Healer/Few_Shot_Learning_Data/All_Patients_Final/Patient1_Day8_NonHealer.png\n",
            "/content/drive/MyDrive/HealNet/Healer vs. Non Healer/Few_Shot_Learning_Data/All_Patients_Final/Patient1_Day9_NonHealer.png\n",
            "/content/drive/MyDrive/HealNet/Healer vs. Non Healer/Few_Shot_Learning_Data/All_Patients_Final/Patient2_Day1_Healer.png\n",
            "/content/drive/MyDrive/HealNet/Healer vs. Non Healer/Few_Shot_Learning_Data/All_Patients_Final/Patient2_Day2_Healer.png\n",
            "/content/drive/MyDrive/HealNet/Healer vs. Non Healer/Few_Shot_Learning_Data/All_Patients_Final/Patient2_Day3_Healer.png\n",
            "/content/drive/MyDrive/HealNet/Healer vs. Non Healer/Few_Shot_Learning_Data/All_Patients_Final/Patient2_Day4_Healer.png\n",
            "/content/drive/MyDrive/HealNet/Healer vs. Non Healer/Few_Shot_Learning_Data/All_Patients_Final/Patient2_Day5_Healer.png\n",
            "/content/drive/MyDrive/HealNet/Healer vs. Non Healer/Few_Shot_Learning_Data/All_Patients_Final/Patient2_Day6_Healer.png\n",
            "/content/drive/MyDrive/HealNet/Healer vs. Non Healer/Few_Shot_Learning_Data/All_Patients_Final/Patient2_Day7_Healer.png\n",
            "/content/drive/MyDrive/HealNet/Healer vs. Non Healer/Few_Shot_Learning_Data/All_Patients_Final/Patient2_Day8_Healer.png\n",
            "/content/drive/MyDrive/HealNet/Healer vs. Non Healer/Few_Shot_Learning_Data/All_Patients_Final/Patient2_Day9_Healer.png\n",
            "/content/drive/MyDrive/HealNet/Healer vs. Non Healer/Few_Shot_Learning_Data/All_Patients_Final/Patient2_Day10_Healer.png\n",
            "/content/drive/MyDrive/HealNet/Healer vs. Non Healer/Few_Shot_Learning_Data/All_Patients_Final/Patient2_Day11_Healer.png\n",
            "/content/drive/MyDrive/HealNet/Healer vs. Non Healer/Few_Shot_Learning_Data/All_Patients_Final/Patient2_Day12_Healer.png\n",
            "/content/drive/MyDrive/HealNet/Healer vs. Non Healer/Few_Shot_Learning_Data/All_Patients_Final/Patient2_Day13_Healer.png\n",
            "/content/drive/MyDrive/HealNet/Healer vs. Non Healer/Few_Shot_Learning_Data/All_Patients_Final/Patient2_Day14_Healer.png\n",
            "/content/drive/MyDrive/HealNet/Healer vs. Non Healer/Few_Shot_Learning_Data/All_Patients_Final/Patient2_Day15_Healer.png\n",
            "/content/drive/MyDrive/HealNet/Healer vs. Non Healer/Few_Shot_Learning_Data/All_Patients_Final/Patient2_Day16_Healer.png\n",
            "/content/drive/MyDrive/HealNet/Healer vs. Non Healer/Few_Shot_Learning_Data/All_Patients_Final/Patient2_Day17_Healer.png\n",
            "/content/drive/MyDrive/HealNet/Healer vs. Non Healer/Few_Shot_Learning_Data/All_Patients_Final/Patient2_Day18_Healer.png\n",
            "/content/drive/MyDrive/HealNet/Healer vs. Non Healer/Few_Shot_Learning_Data/All_Patients_Final/Patient2_Day19_Healer.png\n",
            "/content/drive/MyDrive/HealNet/Healer vs. Non Healer/Few_Shot_Learning_Data/All_Patients_Final/Patient3_Day1_NonHealer.png\n",
            "/content/drive/MyDrive/HealNet/Healer vs. Non Healer/Few_Shot_Learning_Data/All_Patients_Final/Patient3_Day2_NonHealer.png\n",
            "/content/drive/MyDrive/HealNet/Healer vs. Non Healer/Few_Shot_Learning_Data/All_Patients_Final/Patient3_Day3_NonHealer.png\n",
            "/content/drive/MyDrive/HealNet/Healer vs. Non Healer/Few_Shot_Learning_Data/All_Patients_Final/Patient3_Day4_NonHealer.png\n",
            "/content/drive/MyDrive/HealNet/Healer vs. Non Healer/Few_Shot_Learning_Data/All_Patients_Final/Patient3_Day5_NonHealer.png\n",
            "/content/drive/MyDrive/HealNet/Healer vs. Non Healer/Few_Shot_Learning_Data/All_Patients_Final/Patient3_Day6_NonHealer.png\n",
            "/content/drive/MyDrive/HealNet/Healer vs. Non Healer/Few_Shot_Learning_Data/All_Patients_Final/Patient3_Day7_NonHealer.png\n",
            "/content/drive/MyDrive/HealNet/Healer vs. Non Healer/Few_Shot_Learning_Data/All_Patients_Final/Patient3_Day8_NonHealer.png\n",
            "/content/drive/MyDrive/HealNet/Healer vs. Non Healer/Few_Shot_Learning_Data/All_Patients_Final/Patient3_Day9_NonHealer.png\n",
            "/content/drive/MyDrive/HealNet/Healer vs. Non Healer/Few_Shot_Learning_Data/All_Patients_Final/Patient4_Day1_Healer.png\n",
            "/content/drive/MyDrive/HealNet/Healer vs. Non Healer/Few_Shot_Learning_Data/All_Patients_Final/Patient4_Day2_Healer.png\n",
            "/content/drive/MyDrive/HealNet/Healer vs. Non Healer/Few_Shot_Learning_Data/All_Patients_Final/Patient4_Day3_Healer.png\n",
            "/content/drive/MyDrive/HealNet/Healer vs. Non Healer/Few_Shot_Learning_Data/All_Patients_Final/Patient4_Day4_Healer.png\n",
            "/content/drive/MyDrive/HealNet/Healer vs. Non Healer/Few_Shot_Learning_Data/All_Patients_Final/Patient4_Day5_Healer.png\n",
            "/content/drive/MyDrive/HealNet/Healer vs. Non Healer/Few_Shot_Learning_Data/All_Patients_Final/Patient4_Day6_Healer.png\n",
            "/content/drive/MyDrive/HealNet/Healer vs. Non Healer/Few_Shot_Learning_Data/All_Patients_Final/Patient4_Day7_Healer.png\n",
            "/content/drive/MyDrive/HealNet/Healer vs. Non Healer/Few_Shot_Learning_Data/All_Patients_Final/Patient4_Day8_Healer.png\n",
            "/content/drive/MyDrive/HealNet/Healer vs. Non Healer/Few_Shot_Learning_Data/All_Patients_Final/Patient5_Day1_Healer.png\n",
            "/content/drive/MyDrive/HealNet/Healer vs. Non Healer/Few_Shot_Learning_Data/All_Patients_Final/Patient5_Day2_Healer.png\n",
            "/content/drive/MyDrive/HealNet/Healer vs. Non Healer/Few_Shot_Learning_Data/All_Patients_Final/Patient6_Day1_Healer.png\n",
            "/content/drive/MyDrive/HealNet/Healer vs. Non Healer/Few_Shot_Learning_Data/All_Patients_Final/Patient6_Day2_Healer.png\n",
            "/content/drive/MyDrive/HealNet/Healer vs. Non Healer/Few_Shot_Learning_Data/All_Patients_Final/Patient6_Day3_Healer.png\n",
            "/content/drive/MyDrive/HealNet/Healer vs. Non Healer/Few_Shot_Learning_Data/All_Patients_Final/Patient7_Day1_Healer.png\n",
            "/content/drive/MyDrive/HealNet/Healer vs. Non Healer/Few_Shot_Learning_Data/All_Patients_Final/Patient7_Day2_Healer.png\n",
            "/content/drive/MyDrive/HealNet/Healer vs. Non Healer/Few_Shot_Learning_Data/All_Patients_Final/Patient7_Day3_Healer.png\n",
            "/content/drive/MyDrive/HealNet/Healer vs. Non Healer/Few_Shot_Learning_Data/All_Patients_Final/Patient7_Day4_Healer.png\n",
            "/content/drive/MyDrive/HealNet/Healer vs. Non Healer/Few_Shot_Learning_Data/All_Patients_Final/Patient7_Day5_Healer.png\n",
            "/content/drive/MyDrive/HealNet/Healer vs. Non Healer/Few_Shot_Learning_Data/All_Patients_Final/Patient7_Day6_Healer.png\n",
            "/content/drive/MyDrive/HealNet/Healer vs. Non Healer/Few_Shot_Learning_Data/All_Patients_Final/Patient7_Day7_Healer.png\n",
            "/content/drive/MyDrive/HealNet/Healer vs. Non Healer/Few_Shot_Learning_Data/All_Patients_Final/Patient7_Day8_Healer.png\n",
            "/content/drive/MyDrive/HealNet/Healer vs. Non Healer/Few_Shot_Learning_Data/All_Patients_Final/Patient7_Day9_Healer.png\n",
            "/content/drive/MyDrive/HealNet/Healer vs. Non Healer/Few_Shot_Learning_Data/All_Patients_Final/Patient7_Day10_Healer.png\n",
            "/content/drive/MyDrive/HealNet/Healer vs. Non Healer/Few_Shot_Learning_Data/All_Patients_Final/Patient7_Day11_Healer.png\n",
            "/content/drive/MyDrive/HealNet/Healer vs. Non Healer/Few_Shot_Learning_Data/All_Patients_Final/Patient7_Day12_Healer.png\n",
            "/content/drive/MyDrive/HealNet/Healer vs. Non Healer/Few_Shot_Learning_Data/All_Patients_Final/Patient8_Day1_Healer.png\n",
            "/content/drive/MyDrive/HealNet/Healer vs. Non Healer/Few_Shot_Learning_Data/All_Patients_Final/Patient8_Day2_Healer.png\n",
            "/content/drive/MyDrive/HealNet/Healer vs. Non Healer/Few_Shot_Learning_Data/All_Patients_Final/Patient8_Day3_Healer.png\n",
            "/content/drive/MyDrive/HealNet/Healer vs. Non Healer/Few_Shot_Learning_Data/All_Patients_Final/Patient8_Day4_Healer.png\n",
            "/content/drive/MyDrive/HealNet/Healer vs. Non Healer/Few_Shot_Learning_Data/All_Patients_Final/Patient8_Day5_Healer.png\n",
            "/content/drive/MyDrive/HealNet/Healer vs. Non Healer/Few_Shot_Learning_Data/All_Patients_Final/Patient9_Day1_Healer.png\n",
            "/content/drive/MyDrive/HealNet/Healer vs. Non Healer/Few_Shot_Learning_Data/All_Patients_Final/Patient9_Day2_Healer.png\n",
            "/content/drive/MyDrive/HealNet/Healer vs. Non Healer/Few_Shot_Learning_Data/All_Patients_Final/Patient9_Day3_Healer.png\n",
            "/content/drive/MyDrive/HealNet/Healer vs. Non Healer/Few_Shot_Learning_Data/All_Patients_Final/Patient9_Day4_Healer.png\n",
            "/content/drive/MyDrive/HealNet/Healer vs. Non Healer/Few_Shot_Learning_Data/All_Patients_Final/Patient9_Day5_Healer.png\n",
            "/content/drive/MyDrive/HealNet/Healer vs. Non Healer/Few_Shot_Learning_Data/All_Patients_Final/Patient10_Day1_Healer.png\n",
            "/content/drive/MyDrive/HealNet/Healer vs. Non Healer/Few_Shot_Learning_Data/All_Patients_Final/Patient10_Day2_Healer.png\n",
            "/content/drive/MyDrive/HealNet/Healer vs. Non Healer/Few_Shot_Learning_Data/All_Patients_Final/Patient10_Day3_Healer.png\n",
            "/content/drive/MyDrive/HealNet/Healer vs. Non Healer/Few_Shot_Learning_Data/All_Patients_Final/Patient10_Day4_Healer.png\n",
            "/content/drive/MyDrive/HealNet/Healer vs. Non Healer/Few_Shot_Learning_Data/All_Patients_Final/Patient11_Day1_NonHealer.png\n",
            "/content/drive/MyDrive/HealNet/Healer vs. Non Healer/Few_Shot_Learning_Data/All_Patients_Final/Patient11_Day2_NonHealer.png\n",
            "/content/drive/MyDrive/HealNet/Healer vs. Non Healer/Few_Shot_Learning_Data/All_Patients_Final/Patient11_Day3_NonHealer.png\n",
            "/content/drive/MyDrive/HealNet/Healer vs. Non Healer/Few_Shot_Learning_Data/All_Patients_Final/Patient11_Day4_NonHealer.png\n",
            "/content/drive/MyDrive/HealNet/Healer vs. Non Healer/Few_Shot_Learning_Data/All_Patients_Final/Patient11_Day5_NonHealer.png\n",
            "/content/drive/MyDrive/HealNet/Healer vs. Non Healer/Few_Shot_Learning_Data/All_Patients_Final/Patient11_Day6_NonHealer.png\n",
            "/content/drive/MyDrive/HealNet/Healer vs. Non Healer/Few_Shot_Learning_Data/All_Patients_Final/Patient11_Day7_NonHealer.png\n",
            "/content/drive/MyDrive/HealNet/Healer vs. Non Healer/Few_Shot_Learning_Data/All_Patients_Final/Patient11_Day8_NonHealer.png\n",
            "/content/drive/MyDrive/HealNet/Healer vs. Non Healer/Few_Shot_Learning_Data/All_Patients_Final/Patient11_Day9_NonHealer.png\n",
            "/content/drive/MyDrive/HealNet/Healer vs. Non Healer/Few_Shot_Learning_Data/All_Patients_Final/Patient11_Day10_NonHealer.png\n",
            "/content/drive/MyDrive/HealNet/Healer vs. Non Healer/Few_Shot_Learning_Data/All_Patients_Final/Patient11_Day11_NonHealer.png\n",
            "/content/drive/MyDrive/HealNet/Healer vs. Non Healer/Few_Shot_Learning_Data/All_Patients_Final/Patient11_Day12_NonHealer.png\n",
            "/content/drive/MyDrive/HealNet/Healer vs. Non Healer/Few_Shot_Learning_Data/All_Patients_Final/Patient11_Day13_NonHealer.png\n",
            "/content/drive/MyDrive/HealNet/Healer vs. Non Healer/Few_Shot_Learning_Data/All_Patients_Final/Patient11_Day14_NonHealer.png\n",
            "/content/drive/MyDrive/HealNet/Healer vs. Non Healer/Few_Shot_Learning_Data/All_Patients_Final/Patient11_Day15_NonHealer.png\n",
            "/content/drive/MyDrive/HealNet/Healer vs. Non Healer/Few_Shot_Learning_Data/All_Patients_Final/Patient11_Day16_NonHealer.png\n",
            "/content/drive/MyDrive/HealNet/Healer vs. Non Healer/Few_Shot_Learning_Data/All_Patients_Final/Patient11_Day17_NonHealer.png\n",
            "/content/drive/MyDrive/HealNet/Healer vs. Non Healer/Few_Shot_Learning_Data/All_Patients_Final/Patient11_Day18_NonHealer.png\n",
            "/content/drive/MyDrive/HealNet/Healer vs. Non Healer/Few_Shot_Learning_Data/All_Patients_Final/Patient12_Day1_Healer.png\n",
            "/content/drive/MyDrive/HealNet/Healer vs. Non Healer/Few_Shot_Learning_Data/All_Patients_Final/Patient12_Day2_Healer.png\n",
            "/content/drive/MyDrive/HealNet/Healer vs. Non Healer/Few_Shot_Learning_Data/All_Patients_Final/Patient12_Day3_Healer.png\n",
            "/content/drive/MyDrive/HealNet/Healer vs. Non Healer/Few_Shot_Learning_Data/All_Patients_Final/Patient12_Day4_Healer.png\n",
            "/content/drive/MyDrive/HealNet/Healer vs. Non Healer/Few_Shot_Learning_Data/All_Patients_Final/Patient12_Day5_Healer.png\n",
            "/content/drive/MyDrive/HealNet/Healer vs. Non Healer/Few_Shot_Learning_Data/All_Patients_Final/Patient12_Day6_Healer.png\n",
            "/content/drive/MyDrive/HealNet/Healer vs. Non Healer/Few_Shot_Learning_Data/All_Patients_Final/Patient12_Day7_Healer.png\n",
            "/content/drive/MyDrive/HealNet/Healer vs. Non Healer/Few_Shot_Learning_Data/All_Patients_Final/Patient12_Day8_Healer.png\n",
            "/content/drive/MyDrive/HealNet/Healer vs. Non Healer/Few_Shot_Learning_Data/All_Patients_Final/Patient12_Day9_Healer.png\n",
            "/content/drive/MyDrive/HealNet/Healer vs. Non Healer/Few_Shot_Learning_Data/All_Patients_Final/Patient12_Day10_Healer.png\n",
            "/content/drive/MyDrive/HealNet/Healer vs. Non Healer/Few_Shot_Learning_Data/All_Patients_Final/Patient12_Day11_Healer.png\n",
            "/content/drive/MyDrive/HealNet/Healer vs. Non Healer/Few_Shot_Learning_Data/All_Patients_Final/Patient12_Day12_Healer.png\n",
            "/content/drive/MyDrive/HealNet/Healer vs. Non Healer/Few_Shot_Learning_Data/All_Patients_Final/Patient12_Day13_Healer.png\n",
            "/content/drive/MyDrive/HealNet/Healer vs. Non Healer/Few_Shot_Learning_Data/All_Patients_Final/Patient12_Day14_Healer.png\n",
            "/content/drive/MyDrive/HealNet/Healer vs. Non Healer/Few_Shot_Learning_Data/All_Patients_Final/Patient12_Day15_Healer.png\n",
            "/content/drive/MyDrive/HealNet/Healer vs. Non Healer/Few_Shot_Learning_Data/All_Patients_Final/Patient13_Day1_Healer.png\n",
            "/content/drive/MyDrive/HealNet/Healer vs. Non Healer/Few_Shot_Learning_Data/All_Patients_Final/Patient13_Day2_Healer.png\n",
            "/content/drive/MyDrive/HealNet/Healer vs. Non Healer/Few_Shot_Learning_Data/All_Patients_Final/Patient14_Day1_Healer.png\n",
            "/content/drive/MyDrive/HealNet/Healer vs. Non Healer/Few_Shot_Learning_Data/All_Patients_Final/Patient14_Day2_Healer.png\n",
            "/content/drive/MyDrive/HealNet/Healer vs. Non Healer/Few_Shot_Learning_Data/All_Patients_Final/Patient14_Day3_Healer.png\n",
            "/content/drive/MyDrive/HealNet/Healer vs. Non Healer/Few_Shot_Learning_Data/All_Patients_Final/Patient14_Day4_Healer.png\n",
            "/content/drive/MyDrive/HealNet/Healer vs. Non Healer/Few_Shot_Learning_Data/All_Patients_Final/Patient14_Day5_Healer.png\n",
            "/content/drive/MyDrive/HealNet/Healer vs. Non Healer/Few_Shot_Learning_Data/All_Patients_Final/Patient14_Day6_Healer.png\n",
            "/content/drive/MyDrive/HealNet/Healer vs. Non Healer/Few_Shot_Learning_Data/All_Patients_Final/Patient14_Day7_Healer.png\n",
            "/content/drive/MyDrive/HealNet/Healer vs. Non Healer/Few_Shot_Learning_Data/All_Patients_Final/Patient14_Day8_Healer.png\n",
            "/content/drive/MyDrive/HealNet/Healer vs. Non Healer/Few_Shot_Learning_Data/All_Patients_Final/Patient14_Day9_Healer.png\n",
            "/content/drive/MyDrive/HealNet/Healer vs. Non Healer/Few_Shot_Learning_Data/All_Patients_Final/Patient15_Day1_NonHealer.png\n",
            "/content/drive/MyDrive/HealNet/Healer vs. Non Healer/Few_Shot_Learning_Data/All_Patients_Final/Patient15_Day2_NonHealer.png\n",
            "/content/drive/MyDrive/HealNet/Healer vs. Non Healer/Few_Shot_Learning_Data/All_Patients_Final/Patient15_Day3_NonHealer.png\n",
            "/content/drive/MyDrive/HealNet/Healer vs. Non Healer/Few_Shot_Learning_Data/All_Patients_Final/Patient15_Day4_NonHealer.png\n",
            "/content/drive/MyDrive/HealNet/Healer vs. Non Healer/Few_Shot_Learning_Data/All_Patients_Final/Patient15_Day5_NonHealer.png\n",
            "/content/drive/MyDrive/HealNet/Healer vs. Non Healer/Few_Shot_Learning_Data/All_Patients_Final/Patient15_Day6_NonHealer.png\n",
            "/content/drive/MyDrive/HealNet/Healer vs. Non Healer/Few_Shot_Learning_Data/All_Patients_Final/Patient15_Day7_NonHealer.png\n",
            "/content/drive/MyDrive/HealNet/Healer vs. Non Healer/Few_Shot_Learning_Data/All_Patients_Final/Patient15_Day8_NonHealer.png\n",
            "/content/drive/MyDrive/HealNet/Healer vs. Non Healer/Few_Shot_Learning_Data/All_Patients_Final/Patient15_Day9_NonHealer.png\n",
            "/content/drive/MyDrive/HealNet/Healer vs. Non Healer/Few_Shot_Learning_Data/All_Patients_Final/Patient15_Day10_NonHealer.png\n",
            "/content/drive/MyDrive/HealNet/Healer vs. Non Healer/Few_Shot_Learning_Data/All_Patients_Final/Patient15_Day11_NonHealer.png\n",
            "/content/drive/MyDrive/HealNet/Healer vs. Non Healer/Few_Shot_Learning_Data/All_Patients_Final/Patient15_Day12_NonHealer.png\n",
            "/content/drive/MyDrive/HealNet/Healer vs. Non Healer/Few_Shot_Learning_Data/All_Patients_Final/Patient15_Day13_NonHealer.png\n",
            "/content/drive/MyDrive/HealNet/Healer vs. Non Healer/Few_Shot_Learning_Data/All_Patients_Final/Patient15_Day14_NonHealer.png\n",
            "/content/drive/MyDrive/HealNet/Healer vs. Non Healer/Few_Shot_Learning_Data/All_Patients_Final/Patient16_Day1_Healer.png\n",
            "/content/drive/MyDrive/HealNet/Healer vs. Non Healer/Few_Shot_Learning_Data/All_Patients_Final/Patient16_Day2_Healer.png\n",
            "/content/drive/MyDrive/HealNet/Healer vs. Non Healer/Few_Shot_Learning_Data/All_Patients_Final/Patient16_Day3_Healer.png\n",
            "/content/drive/MyDrive/HealNet/Healer vs. Non Healer/Few_Shot_Learning_Data/All_Patients_Final/Patient16_Day4_Healer.png\n",
            "/content/drive/MyDrive/HealNet/Healer vs. Non Healer/Few_Shot_Learning_Data/All_Patients_Final/Patient16_Day5_Healer.png\n",
            "/content/drive/MyDrive/HealNet/Healer vs. Non Healer/Few_Shot_Learning_Data/All_Patients_Final/Patient16_Day6_Healer.png\n",
            "/content/drive/MyDrive/HealNet/Healer vs. Non Healer/Few_Shot_Learning_Data/All_Patients_Final/Patient16_Day7_Healer.png\n",
            "/content/drive/MyDrive/HealNet/Healer vs. Non Healer/Few_Shot_Learning_Data/All_Patients_Final/Patient16_Day8_Healer.png\n",
            "/content/drive/MyDrive/HealNet/Healer vs. Non Healer/Few_Shot_Learning_Data/All_Patients_Final/Patient16_Day9_Healer.png\n",
            "/content/drive/MyDrive/HealNet/Healer vs. Non Healer/Few_Shot_Learning_Data/All_Patients_Final/Patient17_Day1_NonHealer.png\n",
            "/content/drive/MyDrive/HealNet/Healer vs. Non Healer/Few_Shot_Learning_Data/All_Patients_Final/Patient17_Day2_NonHealer.png\n",
            "/content/drive/MyDrive/HealNet/Healer vs. Non Healer/Few_Shot_Learning_Data/All_Patients_Final/Patient17_Day3_NonHealer.png\n",
            "/content/drive/MyDrive/HealNet/Healer vs. Non Healer/Few_Shot_Learning_Data/All_Patients_Final/Patient17_Day4_NonHealer.png\n",
            "/content/drive/MyDrive/HealNet/Healer vs. Non Healer/Few_Shot_Learning_Data/All_Patients_Final/Patient17_Day5_NonHealer.png\n",
            "/content/drive/MyDrive/HealNet/Healer vs. Non Healer/Few_Shot_Learning_Data/All_Patients_Final/Patient17_Day6_NonHealer.png\n",
            "/content/drive/MyDrive/HealNet/Healer vs. Non Healer/Few_Shot_Learning_Data/All_Patients_Final/Patient17_Day7_NonHealer.png\n",
            "/content/drive/MyDrive/HealNet/Healer vs. Non Healer/Few_Shot_Learning_Data/All_Patients_Final/Patient17_Day8_NonHealer.png\n",
            "/content/drive/MyDrive/HealNet/Healer vs. Non Healer/Few_Shot_Learning_Data/All_Patients_Final/Patient17_Day9_NonHealer.png\n",
            "/content/drive/MyDrive/HealNet/Healer vs. Non Healer/Few_Shot_Learning_Data/All_Patients_Final/Patient17_Day10_NonHealer.png\n",
            "/content/drive/MyDrive/HealNet/Healer vs. Non Healer/Few_Shot_Learning_Data/All_Patients_Final/Patient17_Day11_NonHealer.png\n",
            "/content/drive/MyDrive/HealNet/Healer vs. Non Healer/Few_Shot_Learning_Data/All_Patients_Final/Patient18_Day1_Healer.png\n",
            "/content/drive/MyDrive/HealNet/Healer vs. Non Healer/Few_Shot_Learning_Data/All_Patients_Final/Patient18_Day2_Healer.png\n",
            "/content/drive/MyDrive/HealNet/Healer vs. Non Healer/Few_Shot_Learning_Data/All_Patients_Final/Patient18_Day3_Healer.png\n",
            "/content/drive/MyDrive/HealNet/Healer vs. Non Healer/Few_Shot_Learning_Data/All_Patients_Final/Patient18_Day4_Healer.png\n",
            "/content/drive/MyDrive/HealNet/Healer vs. Non Healer/Few_Shot_Learning_Data/All_Patients_Final/Patient18_Day5_Healer.png\n",
            "/content/drive/MyDrive/HealNet/Healer vs. Non Healer/Few_Shot_Learning_Data/All_Patients_Final/Patient18_Day6_Healer.png\n",
            "/content/drive/MyDrive/HealNet/Healer vs. Non Healer/Few_Shot_Learning_Data/All_Patients_Final/Patient18_Day7_Healer.png\n",
            "/content/drive/MyDrive/HealNet/Healer vs. Non Healer/Few_Shot_Learning_Data/All_Patients_Final/Patient18_Day8_Healer.png\n",
            "/content/drive/MyDrive/HealNet/Healer vs. Non Healer/Few_Shot_Learning_Data/All_Patients_Final/Patient19_Day1_NonHealer.png\n",
            "/content/drive/MyDrive/HealNet/Healer vs. Non Healer/Few_Shot_Learning_Data/All_Patients_Final/Patient19_Day2_NonHealer.png\n",
            "/content/drive/MyDrive/HealNet/Healer vs. Non Healer/Few_Shot_Learning_Data/All_Patients_Final/Patient19_Day3_NonHealer.png\n",
            "/content/drive/MyDrive/HealNet/Healer vs. Non Healer/Few_Shot_Learning_Data/All_Patients_Final/Patient19_Day4_NonHealer.png\n",
            "/content/drive/MyDrive/HealNet/Healer vs. Non Healer/Few_Shot_Learning_Data/All_Patients_Final/Patient19_Day5_NonHealer.png\n",
            "/content/drive/MyDrive/HealNet/Healer vs. Non Healer/Few_Shot_Learning_Data/All_Patients_Final/Patient19_Day6_NonHealer.png\n",
            "/content/drive/MyDrive/HealNet/Healer vs. Non Healer/Few_Shot_Learning_Data/All_Patients_Final/Patient19_Day7_NonHealer.png\n",
            "(176, 1, 128)\n"
          ]
        }
      ]
    },
    {
      "cell_type": "code",
      "source": [
        "def scale_to_01_range(x):\n",
        "    value_range = (np.max(x) - np.min(x))\n",
        "    starts_from_zero = x - np.min(x)\n",
        "    return starts_from_zero / value_range\n",
        "\n",
        "def get_cmap(n, name='rdb'):\n",
        "    return plt.cm.get_cmap(name, n)\n",
        "    \n",
        "def plot_tsne(ftrs, labels, ids):\n",
        "\n",
        "    tsne = TSNE().fit_transform(ftrs)\n",
        "    tx = tsne[:, 0]\n",
        "    ty = tsne[:, 1]\n",
        "    tx = scale_to_01_range(tx)\n",
        "    ty = scale_to_01_range(ty)\n",
        "\n",
        "    data_fr = pd.DataFrame(columns = ['Frt_1', 'Frt_2', 'Class_label', 'PatientID'])\n",
        "\n",
        "    data_fr['Frt_1'] = tx\n",
        "    data_fr['Frt_2'] = ty\n",
        "    data_fr['Class_label'] = labels\n",
        "    data_fr['PatientID'] = ids\n",
        "\n",
        "    sns.set(rc={'figure.figsize':(15,15)})\n",
        "    clrs = sns.color_palette(\"husl\", n_colors = 2)\n",
        "    sns.scatterplot(data=data_fr, x=\"Frt_1\", y=\"Frt_2\", hue=\"Class_label\", style=\"Class_label\", legend='full', s=75, palette = clrs)\n",
        "\n",
        "    # clrs = sns.color_palette(\"husl\", n_colors = 20)\n",
        "    # sns.scatterplot(data=data_fr, x=\"Frt_1\", y=\"Frt_2\", hue=\"PatientID\", style=\"Class_label\", legend='full', s=75, palette = clrs)\n",
        "\n",
        "\n",
        "\n",
        " "
      ],
      "metadata": {
        "id": "vgp_0TNdxWDy"
      },
      "execution_count": 22,
      "outputs": []
    },
    {
      "cell_type": "code",
      "source": [
        "# combined"
      ],
      "metadata": {
        "id": "X3nQ5T9Q1SvJ"
      },
      "execution_count": 17,
      "outputs": []
    },
    {
      "cell_type": "code",
      "source": [
        "plot_tsne(combined, combined_labels, combined_ids)"
      ],
      "metadata": {
        "id": "SQE-KSBLMwSt",
        "colab": {
          "base_uri": "https://localhost:8080/",
          "height": 952
        },
        "outputId": "ffc9c8e5-05bb-4a0a-a3a5-93468eed41b5"
      },
      "execution_count": 23,
      "outputs": [
        {
          "output_type": "stream",
          "name": "stderr",
          "text": [
            "/usr/local/lib/python3.7/dist-packages/sklearn/manifold/_t_sne.py:783: FutureWarning: The default initialization in TSNE will change from 'random' to 'pca' in 1.2.\n",
            "  FutureWarning,\n",
            "/usr/local/lib/python3.7/dist-packages/sklearn/manifold/_t_sne.py:793: FutureWarning: The default learning rate in TSNE will change from 200.0 to 'auto' in 1.2.\n",
            "  FutureWarning,\n"
          ]
        },
        {
          "output_type": "display_data",
          "data": {
            "text/plain": [
              "<Figure size 1080x1080 with 1 Axes>"
            ],
            "image/png": "[encoded data removed]"
          },
          "metadata": {}
        }
      ]
    },
    {
      "cell_type": "code",
      "source": [
        "# from sklearn import decomposition\n",
        "# from sklearn import datasets\n",
        "# import pandas as pd\n",
        "# import seaborn as sns\n",
        "# import matplotlib.pyplot as plt"
      ],
      "metadata": {
        "id": "5CNDMUNF8UGR"
      },
      "execution_count": null,
      "outputs": []
    },
    {
      "cell_type": "code",
      "source": [
        "# pca = decomposition.PCA(n_components=2)\n",
        "# pca.fit(combined)\n",
        "# X = pca.transform(combined)\n",
        "# df = pd.DataFrame(X,columns=['pca-one', 'pca-two'])\n",
        "# df['y'] = np.array(combined_labels).flatten()\n",
        "# print(df)\n",
        "# plt.figure(figsize=(10,10));\n",
        "# sns.scatterplot(\n",
        "#     x=\"pca-one\", y=\"pca-two\",\n",
        "#     hue=\"y\",\n",
        "#     palette=sns.color_palette(\"hls\", 2),\n",
        "#     data=df,\n",
        "#     legend=\"full\",\n",
        "#     alpha=0.9\n",
        "# )"
      ],
      "metadata": {
        "id": "yUB-84At8Z0l"
      },
      "execution_count": null,
      "outputs": []
    },
    {
      "cell_type": "code",
      "source": [
        ""
      ],
      "metadata": {
        "id": "cZGEkFsTJRGv"
      },
      "execution_count": null,
      "outputs": []
    }
  ]
}